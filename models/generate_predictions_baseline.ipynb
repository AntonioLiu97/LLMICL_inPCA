{
 "cells": [
  {
   "cell_type": "code",
   "execution_count": 1,
   "metadata": {},
   "outputs": [],
   "source": [
    "continuous_series_names = [\n",
    "                           'uncorrelated_gaussian_centered_sigma_0.1_KDE',\n",
    "                           'uncorrelated_gaussian_centered_sigma_0.3_KDE',                           \n",
    "                           'uncorrelated_gaussian_centered_sigma_0.5_KDE',\n",
    "                           'uncorrelated_gaussian_centered_sigma_0.8_KDE',\n",
    "                           'uncorrelated_gaussian_centered_sigma_0.1_histogram',\n",
    "                           'uncorrelated_gaussian_centered_sigma_0.3_histogram',\n",
    "                           'uncorrelated_gaussian_centered_sigma_0.5_histogram',\n",
    "                           'uncorrelated_gaussian_centered_sigma_0.8_histogram',\n",
    "\n",
    "                           ]\n",
    "markov_chain_names = ['markov_chain']\n",
    "\n",
    "import numpy as np\n",
    "\n",
    "### Set up directory\n",
    "import sys\n",
    "import os\n",
    "from pathlib import Path\n",
    "parent_dir = os.path.dirname(os.getcwd())\n",
    "sys.path.append(parent_dir)\n",
    "\n",
    "from tqdm import tqdm\n",
    "import pickle\n",
    "import torch\n",
    "import matplotlib.pyplot as plt\n",
    "\n",
    "# Check if directory exists, if not create it\n",
    "save_path = Path(parent_dir) / 'processed_series'\n",
    "if not os.path.exists(save_path):\n",
    "    os.makedirs(save_path)\n",
    "    \n",
    "# Define the directory where the generated series are stored\n",
    "generated_series_dir = Path(parent_dir) / 'generated_series'"
   ]
  },
  {
   "cell_type": "code",
   "execution_count": 2,
   "metadata": {},
   "outputs": [
    {
     "name": "stdout",
     "output_type": "stream",
     "text": [
      "CUDA is available.\n"
     ]
    }
   ],
   "source": [
    "# Check if CUDA is available and set the device accordingly\n",
    "if torch.cuda.is_available():\n",
    "    device = torch.device(\"cuda\")\n",
    "    print(\"CUDA is available.\")\n",
    "else:\n",
    "    device = torch.device(\"cpu\")\n",
    "    print(\"CUDA is not available.\")\n"
   ]
  },
  {
   "cell_type": "code",
   "execution_count": 3,
   "metadata": {},
   "outputs": [],
   "source": [
    "# Initialize dictionaries to store the data for continuous series and Markov chains\n",
    "continuous_series_task = {}\n",
    "markov_chain_task = {}\n",
    "\n",
    "# Loop through each file in the directory\n",
    "for file in generated_series_dir.iterdir():\n",
    "    # Check if a series is already processed\n",
    "    if not (save_path / file.name).exists():\\\n",
    "        # Extract the series name from the file name\n",
    "        series_name = file.stem.rsplit('_', 1)[0]\n",
    "        # If the series is a continuous series, load the data into the continuous_series_data dictionary\n",
    "        if series_name in continuous_series_names:\n",
    "            continuous_series_task[file.name] = pickle.load(file.open('rb'))\n",
    "        # If the series is a Markov chain, load the data into the markov_chain_data dictionary\n",
    "        elif series_name in markov_chain_names:\n",
    "            markov_chain_task[file.name] = pickle.load(file.open('rb'))\n",
    "        # If the series name is not recognized, raise an exception\n",
    "        # else:\n",
    "        #     raise Exception(f\"Unrecognized series name: {series_name}\")\n",
    "        \n"
   ]
  },
  {
   "cell_type": "code",
   "execution_count": 4,
   "metadata": {},
   "outputs": [
    {
     "name": "stdout",
     "output_type": "stream",
     "text": [
      "dict_keys(['uncorrelated_gaussian_centered_sigma_0.1_histogram_1.pkl', 'uncorrelated_gaussian_centered_sigma_0.3_KDE_1.pkl', 'uncorrelated_gaussian_centered_sigma_0.1_KDE_0.pkl', 'uncorrelated_gaussian_centered_sigma_0.1_KDE_1.pkl', 'uncorrelated_gaussian_centered_sigma_0.8_KDE_1.pkl', 'uncorrelated_gaussian_centered_sigma_0.5_histogram_1.pkl', 'uncorrelated_gaussian_centered_sigma_0.8_histogram_1.pkl', 'uncorrelated_gaussian_centered_sigma_0.1_histogram_0.pkl', 'uncorrelated_gaussian_centered_sigma_0.8_histogram_0.pkl', 'uncorrelated_gaussian_centered_sigma_0.3_histogram_1.pkl', 'uncorrelated_gaussian_centered_sigma_0.5_KDE_0.pkl', 'uncorrelated_gaussian_centered_sigma_0.5_KDE_1.pkl', 'uncorrelated_gaussian_centered_sigma_0.3_histogram_0.pkl', 'uncorrelated_gaussian_centered_sigma_0.8_KDE_0.pkl', 'uncorrelated_gaussian_centered_sigma_0.5_histogram_0.pkl', 'uncorrelated_gaussian_centered_sigma_0.3_KDE_0.pkl'])\n",
      "dict_keys([])\n"
     ]
    }
   ],
   "source": [
    "print(continuous_series_task.keys())\n",
    "print(markov_chain_task.keys())"
   ]
  },
  {
   "cell_type": "markdown",
   "metadata": {},
   "source": [
    "### Analyze Multi Digit series"
   ]
  },
  {
   "cell_type": "code",
   "execution_count": 5,
   "metadata": {},
   "outputs": [],
   "source": [
    "import importlib\n",
    "import baseline_models\n",
    "importlib.reload(baseline_models)\n",
    "\n",
    "from baseline_models import *"
   ]
  },
  {
   "cell_type": "code",
   "execution_count": 6,
   "metadata": {},
   "outputs": [
    {
     "name": "stdout",
     "output_type": "stream",
     "text": [
      "Processing  uncorrelated_gaussian_centered_sigma_0.1_KDE_0.pkl\n",
      "Processing  uncorrelated_gaussian_centered_sigma_0.1_KDE_1.pkl\n",
      "Processing  uncorrelated_gaussian_centered_sigma_0.1_histogram_0.pkl\n",
      "Processing  uncorrelated_gaussian_centered_sigma_0.1_histogram_1.pkl\n",
      "Processing  uncorrelated_gaussian_centered_sigma_0.3_KDE_0.pkl\n",
      "Processing  uncorrelated_gaussian_centered_sigma_0.3_KDE_1.pkl\n",
      "Processing  uncorrelated_gaussian_centered_sigma_0.3_histogram_0.pkl\n",
      "Processing  uncorrelated_gaussian_centered_sigma_0.3_histogram_1.pkl\n",
      "Processing  uncorrelated_gaussian_centered_sigma_0.5_KDE_0.pkl\n",
      "Processing  uncorrelated_gaussian_centered_sigma_0.5_KDE_1.pkl\n",
      "Processing  uncorrelated_gaussian_centered_sigma_0.5_histogram_0.pkl\n",
      "Processing  uncorrelated_gaussian_centered_sigma_0.5_histogram_1.pkl\n",
      "Processing  uncorrelated_gaussian_centered_sigma_0.8_KDE_0.pkl\n",
      "Processing  uncorrelated_gaussian_centered_sigma_0.8_KDE_1.pkl\n",
      "Processing  uncorrelated_gaussian_centered_sigma_0.8_histogram_0.pkl\n",
      "Processing  uncorrelated_gaussian_centered_sigma_0.8_histogram_1.pkl\n"
     ]
    }
   ],
   "source": [
    "for series_name, series_dict in sorted(continuous_series_task.items()):   \n",
    "    llama_size = series_dict['llama_size']\n",
    "    prec = series_dict['prec']\n",
    "    rescaled_full_series = series_dict['rescaled_full_series']\n",
    "    if llama_size == 'KDE':\n",
    "        print(\"Processing \", series_name)\n",
    "        PDF_list = KDE_for_series(rescaled_full_series,'gaussian',prec)\n",
    "        series_dict['PDF_list'] = PDF_list\n",
    "        save_name = os.path.join(save_path, series_name)\n",
    "        with open(save_name, 'wb') as f:\n",
    "            pickle.dump(series_dict, f)\n",
    "            \n",
    "    if llama_size == 'histogram':\n",
    "        print(\"Processing \", series_name)\n",
    "        PDF_list = histogram_for_series(rescaled_full_series,prec)\n",
    "        series_dict['PDF_list'] = PDF_list\n",
    "        save_name = os.path.join(save_path, series_name)\n",
    "        with open(save_name, 'wb') as f:\n",
    "            pickle.dump(series_dict, f)            \n"
   ]
  },
  {
   "cell_type": "code",
   "execution_count": 8,
   "metadata": {},
   "outputs": [
    {
     "data": {
      "text/plain": [
       "array([0.05, 0.15, 0.25, 0.35, 0.45, 0.55, 0.65, 0.75, 0.85, 0.95, 1.05,\n",
       "       1.15, 1.25, 1.35, 1.45, 1.55, 1.65, 1.75, 1.85, 1.95, 2.05, 2.15,\n",
       "       2.25, 2.35, 2.45, 2.55, 2.65, 2.75, 2.85, 2.95, 3.05, 3.15, 3.25,\n",
       "       3.35, 3.45, 3.55, 3.65, 3.75, 3.85, 3.95, 4.05, 4.15, 4.25, 4.35,\n",
       "       4.45, 4.55, 4.65, 4.75, 4.85, 4.95, 5.05, 5.15, 5.25, 5.35, 5.45,\n",
       "       5.55, 5.65, 5.75, 5.85, 5.95, 6.05, 6.15, 6.25, 6.35, 6.45, 6.55,\n",
       "       6.65, 6.75, 6.85, 6.95, 7.05, 7.15, 7.25, 7.35, 7.45, 7.55, 7.65,\n",
       "       7.75, 7.85, 7.95, 8.05, 8.15, 8.25, 8.35, 8.45, 8.55, 8.65, 8.75,\n",
       "       8.85, 8.95, 9.05, 9.15, 9.25, 9.35, 9.45, 9.55, 9.65, 9.75, 9.85,\n",
       "       9.95])"
      ]
     },
     "execution_count": 8,
     "metadata": {},
     "output_type": "execute_result"
    }
   ],
   "source": [
    "PDF_list[0].bin_center_arr"
   ]
  },
  {
   "cell_type": "code",
   "execution_count": null,
   "metadata": {},
   "outputs": [],
   "source": []
  }
 ],
 "metadata": {
  "kernelspec": {
   "display_name": "LLM",
   "language": "python",
   "name": "python3"
  },
  "language_info": {
   "codemirror_mode": {
    "name": "ipython",
    "version": 3
   },
   "file_extension": ".py",
   "mimetype": "text/x-python",
   "name": "python",
   "nbconvert_exporter": "python",
   "pygments_lexer": "ipython3",
   "version": "3.11.4"
  }
 },
 "nbformat": 4,
 "nbformat_minor": 2
}
