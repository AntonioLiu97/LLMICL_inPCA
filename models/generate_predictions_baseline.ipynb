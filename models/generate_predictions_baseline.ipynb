{
 "cells": [
  {
   "cell_type": "code",
   "execution_count": 1,
   "metadata": {},
   "outputs": [],
   "source": [
    "continuous_series_names = [\n",
    "                           'uncorrelated_gaussian_centered_sigma_0.1_KDE',\n",
    "                           'uncorrelated_gaussian_centered_sigma_0.3_KDE',                           \n",
    "                           'uncorrelated_gaussian_centered_sigma_0.5_KDE',\n",
    "                           'uncorrelated_gaussian_centered_sigma_0.8_KDE',\n",
    "                           'uncorrelated_gaussian_centered_sigma_0.1_histogram',\n",
    "                           'uncorrelated_gaussian_centered_sigma_0.3_histogram',\n",
    "                           'uncorrelated_gaussian_centered_sigma_0.5_histogram',\n",
    "                           'uncorrelated_gaussian_centered_sigma_0.8_histogram',\n",
    "                           'uncorrelated_random_PDF_l_0.1_KDE',\n",
    "                           'uncorrelated_random_PDF_l_0.1_histogram',\n",
    "                           'uncorrelated_random_PDF_l_0.4_histogram',\n",
    "                           'uncorrelated_random_PDF_l_0.4_KDE',\n",
    "                           'uncorrelated_random_PDF_l_0.02_KDE',\n",
    "                           'uncorrelated_random_PDF_l_0.02_histogram',\n",
    "                           ]\n",
    "markov_chain_names = ['markov_chain']\n",
    "\n",
    "import numpy as np\n",
    "\n",
    "### Set up directory\n",
    "import sys\n",
    "import os\n",
    "from pathlib import Path\n",
    "parent_dir = os.path.dirname(os.getcwd())\n",
    "sys.path.append(parent_dir)\n",
    "\n",
    "from tqdm import tqdm\n",
    "import pickle\n",
    "import torch\n",
    "import matplotlib.pyplot as plt\n",
    "\n",
    "# Check if directory exists, if not create it\n",
    "save_path = Path(parent_dir) / 'processed_series'\n",
    "if not os.path.exists(save_path):\n",
    "    os.makedirs(save_path)\n",
    "    \n",
    "# Define the directory where the generated series are stored\n",
    "generated_series_dir = Path(parent_dir) / 'generated_series'"
   ]
  },
  {
   "cell_type": "code",
   "execution_count": 2,
   "metadata": {},
   "outputs": [],
   "source": [
    "# Initialize dictionaries to store the data for continuous series and Markov chains\n",
    "continuous_series_task = {}\n",
    "markov_chain_task = {}\n",
    "\n",
    "# Loop through each file in the directory\n",
    "for file in generated_series_dir.iterdir():\n",
    "    # Check if a series is already processed\n",
    "    if not (save_path / file.name).exists():\n",
    "        # Extract the series name from the file name\n",
    "        series_name = file.stem.rsplit('_', 1)[0]\n",
    "        # If the series is a continuous series, load the data into the continuous_series_data dictionary\n",
    "        if series_name in continuous_series_names:\n",
    "            continuous_series_task[file.name] = pickle.load(file.open('rb'))\n",
    "        # If the series is a Markov chain, load the data into the markov_chain_data dictionary\n",
    "        elif series_name in markov_chain_names:\n",
    "            markov_chain_task[file.name] = pickle.load(file.open('rb'))\n",
    "        # If the series name is not recognized, raise an exception\n",
    "        # else:\n",
    "        #     raise Exception(f\"Unrecognized series name: {series_name}\")\n",
    "        \n"
   ]
  },
  {
   "cell_type": "code",
   "execution_count": 3,
   "metadata": {},
   "outputs": [
    {
     "name": "stdout",
     "output_type": "stream",
     "text": [
      "dict_keys(['uncorrelated_random_PDF_l_0.4_KDE_1.pkl', 'uncorrelated_random_PDF_l_0.02_KDE_0.pkl', 'uncorrelated_random_PDF_l_0.4_histogram_1.pkl', 'uncorrelated_random_PDF_l_0.4_histogram_0.pkl', 'uncorrelated_random_PDF_l_0.4_KDE_0.pkl'])\n",
      "dict_keys([])\n"
     ]
    }
   ],
   "source": [
    "print(continuous_series_task.keys())\n",
    "print(markov_chain_task.keys())"
   ]
  },
  {
   "cell_type": "markdown",
   "metadata": {},
   "source": [
    "### Analyze Multi Digit series"
   ]
  },
  {
   "cell_type": "code",
   "execution_count": 4,
   "metadata": {},
   "outputs": [],
   "source": [
    "import importlib\n",
    "import baseline_models\n",
    "importlib.reload(baseline_models)\n",
    "\n",
    "from baseline_models import *"
   ]
  },
  {
   "cell_type": "code",
   "execution_count": 5,
   "metadata": {},
   "outputs": [
    {
     "name": "stdout",
     "output_type": "stream",
     "text": [
      "Processing  uncorrelated_random_PDF_l_0.02_KDE_0.pkl\n",
      "Processing  uncorrelated_random_PDF_l_0.4_KDE_0.pkl\n"
     ]
    },
    {
     "name": "stdout",
     "output_type": "stream",
     "text": [
      "Processing  uncorrelated_random_PDF_l_0.4_KDE_1.pkl\n",
      "Processing  uncorrelated_random_PDF_l_0.4_histogram_0.pkl\n",
      "Processing  uncorrelated_random_PDF_l_0.4_histogram_1.pkl\n"
     ]
    }
   ],
   "source": [
    "for series_name, series_dict in sorted(continuous_series_task.items()):   \n",
    "    llama_size = series_dict['llama_size']\n",
    "    prec = series_dict['prec']\n",
    "    kernel = series_dict['kernel']\n",
    "    rescaled_full_series = series_dict['rescaled_full_series']\n",
    "    if llama_size == 'KDE':\n",
    "        print(\"Processing \", series_name)\n",
    "        PDF_list = KDE_for_series(rescaled_full_series,kernel,prec)\n",
    "        series_dict['PDF_list'] = PDF_list\n",
    "        save_name = os.path.join(save_path, series_name)\n",
    "        with open(save_name, 'wb') as f:\n",
    "            pickle.dump(series_dict, f)\n",
    "            \n",
    "    if llama_size == 'histogram':\n",
    "        print(\"Processing \", series_name)\n",
    "        PDF_list = histogram_for_series(rescaled_full_series,prec)\n",
    "        series_dict['PDF_list'] = PDF_list\n",
    "        save_name = os.path.join(save_path, series_name)\n",
    "        with open(save_name, 'wb') as f:\n",
    "            pickle.dump(series_dict, f)            \n"
   ]
  },
  {
   "cell_type": "code",
   "execution_count": null,
   "metadata": {},
   "outputs": [],
   "source": []
  }
 ],
 "metadata": {
  "kernelspec": {
   "display_name": "LLM",
   "language": "python",
   "name": "python3"
  },
  "language_info": {
   "codemirror_mode": {
    "name": "ipython",
    "version": 3
   },
   "file_extension": ".py",
   "mimetype": "text/x-python",
   "name": "python",
   "nbconvert_exporter": "python",
   "pygments_lexer": "ipython3",
   "version": "3.11.4"
  }
 },
 "nbformat": 4,
 "nbformat_minor": 2
}
