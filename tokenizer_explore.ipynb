{
 "cells": [
  {
   "cell_type": "code",
   "execution_count": 1,
   "metadata": {},
   "outputs": [
    {
     "data": {
      "application/vnd.jupyter.widget-view+json": {
       "model_id": "815960c110d94a4885b2f663985f7efc",
       "version_major": 2,
       "version_minor": 0
      },
      "text/plain": [
       "Loading checkpoint shards:   0%|          | 0/2 [00:00<?, ?it/s]"
      ]
     },
     "metadata": {},
     "output_type": "display_data"
    }
   ],
   "source": [
    "from models.llama import *\n",
    "llama_model, llama_tokenizer = get_model_and_tokenizer(\"7b\")\n"
   ]
  },
  {
   "cell_type": "code",
   "execution_count": 3,
   "metadata": {},
   "outputs": [
    {
     "name": "stdout",
     "output_type": "stream",
     "text": [
      "[29900, 29896, 29906, 29941, 29946, 29945, 29953, 29955, 29947, 29929, 29892, 0, 2]\n"
     ]
    }
   ],
   "source": [
    "good_tokens_str = list(\"0123456789, \")\n",
    "good_tokens = [llama_tokenizer.convert_tokens_to_ids(token) for token in good_tokens_str]\n",
    "# good_tokens = llama_tokenizer.encode(good_tokens_str)\n",
    "\n",
    "good_tokens += [llama_tokenizer.eos_token_id]\n",
    "bad_tokens = [i for i in range(len(llama_tokenizer)) if i not in good_tokens]\n",
    "print(good_tokens)"
   ]
  },
  {
   "cell_type": "code",
   "execution_count": null,
   "metadata": {},
   "outputs": [],
   "source": [
    "input_str = \"Physics is about the study of\"\n",
    "# input_str = \"2 5 9 , 2 7 1 , 3 0 0 , 2 9 4 , 2 7 7 , 3 0 7 , 3 3 4\"\n",
    "input_str = \"259,271,300,294,277,307,334\"\n",
    "# input_str = \"0,1,2,3,4,5,6\"\n",
    "\n",
    "\n",
    "batch = llama_tokenizer([input_str], return_tensors=\"pt\")\n",
    "\n",
    "batch = {k: v.cuda() for k, v in batch.items()}\n",
    "\n",
    "generate_ids = llama_model.generate(\n",
    "            **batch,\n",
    "            do_sample=True,\n",
    "            # max_new_tokens=max_tokens,\n",
    "            max_new_tokens=10,\n",
    "            temperature=0.9, \n",
    "            top_p=0.9, \n",
    "            bad_words_ids=[[t] for t in bad_tokens],\n",
    "            renormalize_logits=True,\n",
    "        )\n",
    "gen_strs = llama_tokenizer.batch_decode(\n",
    "            generate_ids, \n",
    "            skip_special_tokens=True, \n",
    "            clean_up_tokenization_spaces=False\n",
    "        )\n",
    "gen_strs = [x.replace(input_str, '').strip() for x in gen_strs]\n"
   ]
  },
  {
   "cell_type": "code",
   "execution_count": null,
   "metadata": {},
   "outputs": [],
   "source": [
    "print(gen_strs)"
   ]
  },
  {
   "cell_type": "markdown",
   "metadata": {},
   "source": [
    "### Explore Serializer"
   ]
  },
  {
   "cell_type": "code",
   "execution_count": null,
   "metadata": {},
   "outputs": [],
   "source": [
    "from data.serialize import *"
   ]
  },
  {
   "cell_type": "code",
   "execution_count": null,
   "metadata": {},
   "outputs": [],
   "source": [
    "settings=SerializerSettings(base=10, prec=3, signed=True, time_sep=',', bit_sep='')\n",
    "serialize_arr(np.array([112.15379,117.89963,131.78541,128.91249]), settings)"
   ]
  },
  {
   "cell_type": "code",
   "execution_count": 4,
   "metadata": {},
   "outputs": [
    {
     "data": {
      "text/plain": [
       "<function torch.nn.functional.log_softmax(input: torch.Tensor, dim: Optional[int] = None, _stacklevel: int = 3, dtype: Optional[int] = None) -> torch.Tensor>"
      ]
     },
     "execution_count": 4,
     "metadata": {},
     "output_type": "execute_result"
    }
   ],
   "source": [
    "torch.nn.functional.log_softmax"
   ]
  },
  {
   "cell_type": "code",
   "execution_count": null,
   "metadata": {},
   "outputs": [],
   "source": []
  }
 ],
 "metadata": {
  "kernelspec": {
   "display_name": "LLM",
   "language": "python",
   "name": "python3"
  },
  "language_info": {
   "codemirror_mode": {
    "name": "ipython",
    "version": 3
   },
   "file_extension": ".py",
   "mimetype": "text/x-python",
   "name": "python",
   "nbconvert_exporter": "python",
   "pygments_lexer": "ipython3",
   "version": "3.11.4"
  },
  "orig_nbformat": 4
 },
 "nbformat": 4,
 "nbformat_minor": 2
}
