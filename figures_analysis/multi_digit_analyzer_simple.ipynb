{
 "cells": [
  {
   "cell_type": "code",
   "execution_count": 1,
   "metadata": {},
   "outputs": [
    {
     "name": "stdout",
     "output_type": "stream",
     "text": [
      "['/home/admin-quad/Toni/LLMICL_inPCA/figures_analysis', '/home/admin-quad/anaconda3/envs/LLM/lib/python311.zip', '/home/admin-quad/anaconda3/envs/LLM/lib/python3.11', '/home/admin-quad/anaconda3/envs/LLM/lib/python3.11/lib-dynload', '', '/home/admin-quad/anaconda3/envs/LLM/lib/python3.11/site-packages', '/home/admin-quad/LLM/llama', '/home/admin-quad/Toni/LLMICL_inPCA', '../models']\n"
     ]
    }
   ],
   "source": [
    "import sys\n",
    "import os\n",
    "from pathlib import Path\n",
    "\n",
    "import sys\n",
    "import os\n",
    "from pathlib import Path\n",
    "parent_dir = os.path.dirname(os.getcwd())\n",
    "sys.path.append(parent_dir)\n",
    "sys.path.append(\"../models\")\n",
    "processed_series_path = Path(parent_dir) / 'processed_series'\n",
    "import copy\n",
    "from scipy.special import erf\n",
    "from scipy.stats import norm\n",
    "import numpy as np\n",
    "import matplotlib.pyplot as plt\n",
    "import pickle\n",
    "\n",
    "print(sys.path)\n",
    "from ICL import MultiResolutionPDF\n",
    "\n"
   ]
  },
  {
   "cell_type": "code",
   "execution_count": 2,
   "metadata": {},
   "outputs": [
    {
     "name": "stdout",
     "output_type": "stream",
     "text": [
      "[0]: uncorrelated_gaussian_centered_sigma_0.1_0.pkl, 13b, 2, \n",
      "[1]: uncorrelated_gaussian_centered_sigma_0.1_1.pkl, 13b, 3, \n",
      "[2]: uncorrelated_gaussian_centered_sigma_0.1_2.pkl, 7b, 2, \n",
      "[3]: uncorrelated_gaussian_centered_sigma_0.1_3.pkl, 7b, 3, \n",
      "[4]: uncorrelated_gaussian_centered_sigma_0.1_4.pkl, 70b, 2, \n",
      "[5]: uncorrelated_gaussian_centered_sigma_0.1_5.pkl, 70b, 3, \n",
      "[6]: uncorrelated_gaussian_centered_sigma_0.1_KDE_0.pkl, KDE, 2, gaussian\n",
      "[7]: uncorrelated_gaussian_centered_sigma_0.1_KDE_1.pkl, KDE, 3, gaussian\n",
      "[8]: uncorrelated_gaussian_centered_sigma_0.1_KDE_10.pkl, KDE, 2, cosine\n",
      "[9]: uncorrelated_gaussian_centered_sigma_0.1_KDE_11.pkl, KDE, 3, cosine\n",
      "[10]: uncorrelated_gaussian_centered_sigma_0.1_KDE_2.pkl, KDE, 2, epanechnikov\n",
      "[11]: uncorrelated_gaussian_centered_sigma_0.1_KDE_3.pkl, KDE, 3, epanechnikov\n",
      "[12]: uncorrelated_gaussian_centered_sigma_0.1_KDE_4.pkl, KDE, 2, tophat\n",
      "[13]: uncorrelated_gaussian_centered_sigma_0.1_KDE_5.pkl, KDE, 3, tophat\n",
      "[14]: uncorrelated_gaussian_centered_sigma_0.1_KDE_6.pkl, KDE, 2, linear\n",
      "[15]: uncorrelated_gaussian_centered_sigma_0.1_KDE_7.pkl, KDE, 3, linear\n",
      "[16]: uncorrelated_gaussian_centered_sigma_0.1_KDE_8.pkl, KDE, 2, exponential\n",
      "[17]: uncorrelated_gaussian_centered_sigma_0.1_KDE_9.pkl, KDE, 3, exponential\n",
      "[18]: uncorrelated_gaussian_centered_sigma_0.1_histogram_0.pkl, histogram, 2, NA\n",
      "[19]: uncorrelated_gaussian_centered_sigma_0.1_histogram_1.pkl, histogram, 3, NA\n",
      "[20]: uncorrelated_gaussian_centered_sigma_0.3_0.pkl, 13b, 2, \n",
      "[21]: uncorrelated_gaussian_centered_sigma_0.3_1.pkl, 13b, 3, \n",
      "[22]: uncorrelated_gaussian_centered_sigma_0.3_2.pkl, 7b, 2, \n",
      "[23]: uncorrelated_gaussian_centered_sigma_0.3_3.pkl, 7b, 3, \n",
      "[24]: uncorrelated_gaussian_centered_sigma_0.3_4.pkl, 70b, 2, \n",
      "[25]: uncorrelated_gaussian_centered_sigma_0.3_5.pkl, 70b, 3, \n",
      "[26]: uncorrelated_gaussian_centered_sigma_0.3_KDE_0.pkl, KDE, 2, gaussian\n",
      "[27]: uncorrelated_gaussian_centered_sigma_0.3_KDE_1.pkl, KDE, 3, gaussian\n",
      "[28]: uncorrelated_gaussian_centered_sigma_0.3_KDE_2.pkl, KDE, 2, epanechnikov\n",
      "[29]: uncorrelated_gaussian_centered_sigma_0.3_KDE_3.pkl, KDE, 3, epanechnikov\n",
      "[30]: uncorrelated_gaussian_centered_sigma_0.3_histogram_0.pkl, histogram, 2, NA\n",
      "[31]: uncorrelated_gaussian_centered_sigma_0.3_histogram_1.pkl, histogram, 3, NA\n",
      "[32]: uncorrelated_gaussian_centered_sigma_0.5_0.pkl, 13b, 2, \n",
      "[33]: uncorrelated_gaussian_centered_sigma_0.5_1.pkl, 13b, 3, \n",
      "[34]: uncorrelated_gaussian_centered_sigma_0.5_2.pkl, 7b, 2, \n",
      "[35]: uncorrelated_gaussian_centered_sigma_0.5_3.pkl, 7b, 3, \n",
      "[36]: uncorrelated_gaussian_centered_sigma_0.5_4.pkl, 70b, 2, \n",
      "[37]: uncorrelated_gaussian_centered_sigma_0.5_5.pkl, 70b, 3, \n",
      "[38]: uncorrelated_gaussian_centered_sigma_0.5_KDE_0.pkl, KDE, 2, gaussian\n",
      "[39]: uncorrelated_gaussian_centered_sigma_0.5_KDE_1.pkl, KDE, 3, gaussian\n",
      "[40]: uncorrelated_gaussian_centered_sigma_0.5_histogram_0.pkl, histogram, 2, NA\n",
      "[41]: uncorrelated_gaussian_centered_sigma_0.5_histogram_1.pkl, histogram, 3, NA\n",
      "[42]: uncorrelated_gaussian_centered_sigma_0.8_0.pkl, 13b, 2, \n",
      "[43]: uncorrelated_gaussian_centered_sigma_0.8_1.pkl, 13b, 3, \n",
      "[44]: uncorrelated_gaussian_centered_sigma_0.8_2.pkl, 7b, 2, \n",
      "[45]: uncorrelated_gaussian_centered_sigma_0.8_3.pkl, 7b, 3, \n",
      "[46]: uncorrelated_gaussian_centered_sigma_0.8_4.pkl, 70b, 2, \n",
      "[47]: uncorrelated_gaussian_centered_sigma_0.8_5.pkl, 70b, 3, \n",
      "[48]: uncorrelated_gaussian_centered_sigma_0.8_KDE_0.pkl, KDE, 2, gaussian\n",
      "[49]: uncorrelated_gaussian_centered_sigma_0.8_KDE_1.pkl, KDE, 3, gaussian\n",
      "[50]: uncorrelated_gaussian_centered_sigma_0.8_histogram_0.pkl, histogram, 2, NA\n",
      "[51]: uncorrelated_gaussian_centered_sigma_0.8_histogram_1.pkl, histogram, 3, NA\n",
      "[52]: uncorrelated_random_PDF_l_0.02_KDE_0.pkl, KDE, 5, epanechnikov\n",
      "[53]: uncorrelated_random_PDF_l_0.1_13b_0.pkl, 13b, 3, NA\n",
      "[54]: uncorrelated_random_PDF_l_0.1_13b_1.pkl, 13b, 1, NA\n",
      "[55]: uncorrelated_random_PDF_l_0.1_70b_0.pkl, 70b, 3, NA\n",
      "[56]: uncorrelated_random_PDF_l_0.1_70b_1.pkl, 70b, 1, NA\n",
      "[57]: uncorrelated_random_PDF_l_0.1_70b_2.pkl, 70b, 0, NA\n",
      "[58]: uncorrelated_random_PDF_l_0.1_70b_3.pkl, 70b, 5, NA\n",
      "[59]: uncorrelated_random_PDF_l_0.1_7b_0.pkl, 7b, 3, NA\n",
      "[60]: uncorrelated_random_PDF_l_0.1_7b_1.pkl, 7b, 1, NA\n",
      "[61]: uncorrelated_random_PDF_l_0.1_KDE_0.pkl, KDE, 3, epanechnikov\n",
      "[62]: uncorrelated_random_PDF_l_0.1_KDE_1.pkl, KDE, 1, epanechnikov\n",
      "[63]: uncorrelated_random_PDF_l_0.1_KDE_2.pkl, KDE, 1, gaussian\n",
      "[64]: uncorrelated_random_PDF_l_0.1_KDE_3.pkl, KDE, 0, epanechnikov\n",
      "[65]: uncorrelated_random_PDF_l_0.1_KDE_4.pkl, KDE, 5, epanechnikov\n",
      "[66]: uncorrelated_random_PDF_l_0.1_histogram_0.pkl, histogram, 3, NA\n",
      "[67]: uncorrelated_random_PDF_l_0.1_histogram_1.pkl, histogram, 1, NA\n",
      "[68]: uncorrelated_random_PDF_l_0.1_histogram_2.pkl, histogram, 0, NA\n",
      "[69]: uncorrelated_random_PDF_l_0.1_histogram_3.pkl, histogram, 5, NA\n",
      "[70]: uncorrelated_random_PDF_l_0.4_KDE_0.pkl, KDE, 6, epanechnikov\n",
      "[71]: uncorrelated_random_PDF_l_0.4_KDE_1.pkl, KDE, 9, epanechnikov\n",
      "[72]: uncorrelated_random_PDF_l_0.4_histogram_0.pkl, histogram, 6, NA\n",
      "[73]: uncorrelated_random_PDF_l_0.4_histogram_1.pkl, histogram, 9, NA\n",
      "[74]: uncorrelated_uniform_centered_sigma_0.1_0.pkl, 13b, 2, \n",
      "[75]: uncorrelated_uniform_centered_sigma_0.1_1.pkl, 13b, 3, \n",
      "[76]: uncorrelated_uniform_centered_sigma_0.1_2.pkl, 7b, 2, \n",
      "[77]: uncorrelated_uniform_centered_sigma_0.1_3.pkl, 7b, 3, \n",
      "[78]: uncorrelated_uniform_centered_sigma_0.1_4.pkl, 70b, 2, \n",
      "[79]: uncorrelated_uniform_centered_sigma_0.1_5.pkl, 70b, 3, \n",
      "[80]: uncorrelated_uniform_centered_sigma_0.3_0.pkl, 13b, 2, \n",
      "[81]: uncorrelated_uniform_centered_sigma_0.3_1.pkl, 13b, 3, \n",
      "[82]: uncorrelated_uniform_centered_sigma_0.3_2.pkl, 7b, 2, \n",
      "[83]: uncorrelated_uniform_centered_sigma_0.3_3.pkl, 7b, 3, \n",
      "[84]: uncorrelated_uniform_centered_sigma_0.3_4.pkl, 70b, 2, \n",
      "[85]: uncorrelated_uniform_centered_sigma_0.3_5.pkl, 70b, 3, \n",
      "[86]: uncorrelated_uniform_centered_sigma_0.5_0.pkl, 13b, 2, \n",
      "[87]: uncorrelated_uniform_centered_sigma_0.5_1.pkl, 13b, 3, \n",
      "[88]: uncorrelated_uniform_centered_sigma_0.5_2.pkl, 7b, 2, \n",
      "[89]: uncorrelated_uniform_centered_sigma_0.5_3.pkl, 7b, 3, \n",
      "[90]: uncorrelated_uniform_centered_sigma_0.5_4.pkl, 70b, 2, \n",
      "[91]: uncorrelated_uniform_centered_sigma_0.5_5.pkl, 70b, 3, \n",
      "[92]: uncorrelated_uniform_centered_sigma_0.8_0.pkl, 13b, 2, \n",
      "[93]: uncorrelated_uniform_centered_sigma_0.8_1.pkl, 13b, 3, \n",
      "[94]: uncorrelated_uniform_centered_sigma_0.8_2.pkl, 7b, 2, \n",
      "[95]: uncorrelated_uniform_centered_sigma_0.8_3.pkl, 7b, 3, \n",
      "[96]: uncorrelated_uniform_centered_sigma_0.8_4.pkl, 70b, 2, \n",
      "[97]: uncorrelated_uniform_centered_sigma_0.8_5.pkl, 70b, 3, \n"
     ]
    }
   ],
   "source": [
    "all_files = sorted([path for path in processed_series_path.iterdir()], key=lambda x: x.name)\n",
    "for index, file in enumerate(all_files):\n",
    "    series_dict = pickle.load(file.open('rb'))\n",
    "    llama_size = series_dict['llama_size']\n",
    "    random_seed = series_dict['random_seed']\n",
    "    kernel = series_dict.get('kernel', '')\n",
    "    print(f\"[{index}]: {file.name}, {llama_size}, {random_seed}, {kernel}\")"
   ]
  },
  {
   "cell_type": "code",
   "execution_count": 13,
   "metadata": {},
   "outputs": [
    {
     "name": "stdout",
     "output_type": "stream",
     "text": [
      "seed: 1\n",
      "model name: 70b\n",
      "mode: all\n",
      "refine_depth: 1\n",
      "prec: 2\n",
      "kernel: NA\n",
      "name: uncorrelated_random_PDF_l_0.1_70b_1\n"
     ]
    }
   ],
   "source": [
    "\n",
    "alpha = 1\n",
    "\n",
    "\n",
    "file = all_files[24]\n",
    "file = all_files[26]\n",
    "file = all_files[30]\n",
    "file = all_files[58]\n",
    "file = all_files[56]\n",
    "\n",
    "dist_type = 'gaussian'\n",
    "\n",
    "\n",
    "\n",
    "processed_dict = pickle.load(file.open('rb'))\n",
    "full_series = processed_dict['full_series']\n",
    "rescaled_true_mean_arr = processed_dict.get('rescaled_true_mean_arr',None)\n",
    "rescaled_true_sigma_arr = processed_dict.get('rescaled_true_sigma_arr',None)\n",
    "true_PDF = processed_dict.get('true_PDF',None)\n",
    "llama_size = processed_dict['llama_size']\n",
    "mode = processed_dict['mode']\n",
    "refine_depth = processed_dict['refine_depth']\n",
    "random_seed = processed_dict['random_seed']\n",
    "PDF_list = processed_dict['PDF_list']\n",
    "time_series = processed_dict['time_series']\n",
    "prec = processed_dict['prec']\n",
    "kernel = processed_dict.get('kernel', '')\n",
    "print(f\"seed: {processed_dict['random_seed']}\")\n",
    "print(f\"model name: {llama_size}\")\n",
    "print(f\"mode: {mode}\")\n",
    "print(f\"refine_depth: {refine_depth}\")\n",
    "print(f\"prec: {prec}\")\n",
    "print(f\"kernel: {kernel}\")\n",
    "print(f\"name: {file.stem}\")"
   ]
  },
  {
   "cell_type": "code",
   "execution_count": 14,
   "metadata": {},
   "outputs": [],
   "source": [
    "### tune temperature \n",
    "\n",
    "for PDF in PDF_list:\n",
    "    if alpha != 1:\n",
    "        PDF.rescale_temperature(alpha)"
   ]
  },
  {
   "cell_type": "code",
   "execution_count": 15,
   "metadata": {},
   "outputs": [],
   "source": [
    "### Calculate true discretized distribution: PDF_list_true\n",
    "### Applies to gaussian distribution only\n",
    "\n",
    "PDF_true_list = copy.deepcopy(PDF_list)\n",
    "if true_PDF is not None:\n",
    "    for i in range(len(PDF_true_list)):\n",
    "        PDF_true_list[i] = true_PDF\n",
    "else:\n",
    "    for i, (PDF, PDF_true, true_mean, true_sigma) in enumerate(zip(PDF_list, PDF_true_list, rescaled_true_mean_arr, rescaled_true_sigma_arr)):\n",
    "        def cdf(x):\n",
    "            if dist_type == \"gaussian\":\n",
    "                return 0.5 * (1 + erf((x - true_mean) / (true_sigma * np.sqrt(2))))\n",
    "            elif dist_type == \"uniform\":\n",
    "                lower_bound = true_mean - true_sigma\n",
    "                upper_bound = true_mean + true_sigma\n",
    "                return np.where(\n",
    "                    (x >= lower_bound) & (x <= upper_bound),\n",
    "                    (x - lower_bound) / (2 * true_sigma),\n",
    "                    np.where(x < lower_bound, 0, 1)\n",
    "                )\n",
    "            else:\n",
    "                raise NotImplementedError(\"This distribution type is not implemented.\")\n",
    "        \n",
    "        PDF_true.discretize(cdf, mode=\"cdf\")\n",
    "        PDF_true.compute_stats()\n",
    "        PDF_true_list[i] = PDF_true"
   ]
  },
  {
   "cell_type": "code",
   "execution_count": 17,
   "metadata": {},
   "outputs": [
    {
     "data": {
      "application/vnd.jupyter.widget-view+json": {
       "model_id": "9f1c9c1e8ffd4b6b80b54616a04664fe",
       "version_major": 2,
       "version_minor": 0
      },
      "text/plain": [
       "interactive(children=(IntSlider(value=1, description='comma_idx', max=399, min=1), Checkbox(value=False, descr…"
      ]
     },
     "metadata": {},
     "output_type": "display_data"
    },
    {
     "data": {
      "text/plain": [
       "<function __main__.digiprob_plotter(comma_idx=1, save_plot=False)>"
      ]
     },
     "execution_count": 17,
     "metadata": {},
     "output_type": "execute_result"
    }
   ],
   "source": [
    "from ipywidgets import interact\n",
    "import matplotlib.pyplot as plt\n",
    "from scipy.stats import norm, uniform\n",
    "save_path_wild = f\"../figures/animation/frame\"\n",
    "### Load multiple digits to MultiResolutionPDF\n",
    "comma_locations = np.sort(np.where(np.array(list(full_series)) == ',')[0])\n",
    "time_series_rescaled = (time_series-time_series.min()) / (time_series.max()-time_series.min()) * (8.5-1.5) + 1.5\n",
    "\n",
    "plot1_log_scale = 0\n",
    "log_scale = 0\n",
    "truth_PDF = 1\n",
    "\n",
    "### Plot distribution before ith comma\n",
    "def digiprob_plotter(comma_idx=1, save_plot = False):\n",
    "    if comma_idx == 0:\n",
    "        start_idx = 0\n",
    "    else:\n",
    "        start_idx = comma_locations[comma_idx-1]+1\n",
    "    if truth_PDF:\n",
    "        fig, axs = plt.subplots(3, 1, figsize=(8, 5), dpi = 200)\n",
    "    else:\n",
    "        fig, axs = plt.subplots(2, 1, figsize=(8, 10/3), dpi = 200)\n",
    "    # Adjust the horizontal space between subplots\n",
    "    plt.subplots_adjust(hspace=0.7)\n",
    "    # Plot the full array with a marker on the selected value\n",
    "\n",
    "    time_series_plot = time_series_rescaled\n",
    "    axs[0].plot(time_series_plot[:-1], marker='o', color='black', markersize=2, lw = '0.1', label = \"observation\")\n",
    "    axs[0].scatter(comma_idx, time_series_plot[comma_idx], color='r', marker='o', label = \"prediction\")\n",
    "    axs[0].set_xlabel('context length')\n",
    "    axs[0].set_ylabel(r'rescaled $x$')\n",
    "    \n",
    "    if plot1_log_scale:\n",
    "        axs[0].set_yscale('log')\n",
    "        \n",
    "    # Plot softmax distributions for each digit\n",
    "    axs[1].set_ylabel(\"probability density\")\n",
    "    # axs[1].set_title(full_series[start_idx-30:start_idx] + \"?\")      \n",
    "    PDF_list[comma_idx].compute_stats()\n",
    "    PDF_list[comma_idx].plot(ax = axs[1], log_scale=log_scale, statistic = False)\n",
    "    if truth_PDF:\n",
    "        PDF_true_list[comma_idx].plot(ax = axs[2], log_scale=log_scale, statistic = False)\n",
    "        axs[2].set_title('discretized truth')\n",
    "        # axs[2].set_xlabel(\"Digit\")\n",
    "        axs[2].set_xlim(0,10)\n",
    "    axs[1].set_xlim(0,10)\n",
    "    # axs[1].set_ylim(0,5)\n",
    "    axs[1].set_title('estimated density')\n",
    "    axs[0].legend()\n",
    "    axs[1].legend()\n",
    "    if log_scale:\n",
    "        axs[1].set_ylim(0.005,10)\n",
    "        if truth_PDF:\n",
    "            axs[2].set_ylim(0.0005,10)\n",
    "    if save_plot: \n",
    "        plt.tight_layout()\n",
    "        save_path = save_path_wild + f\"{comma_idx}.png\"\n",
    "        plt.savefig(save_path)\n",
    "        filenames.append(save_path)\n",
    "\n",
    "# Adjust the range of the slider to match the number of commas in the series\n",
    "num_commas = full_series.count(',')\n",
    "interact(digiprob_plotter, comma_idx=(1, num_commas-1, 1))"
   ]
  },
  {
   "cell_type": "markdown",
   "metadata": {},
   "source": [
    "### Animate"
   ]
  },
  {
   "cell_type": "code",
   "execution_count": 18,
   "metadata": {},
   "outputs": [
    {
     "data": {
      "text/plain": [
       "array([  1,   2,   3,   4,   5,   6,   7,   8,   9,  10,  11,  12,  13,\n",
       "        14,  15,  16,  17,  18,  19,  20,  31,  51,  71,  91, 111, 131,\n",
       "       151, 171, 191, 211, 231, 251, 271, 291, 311])"
      ]
     },
     "execution_count": 18,
     "metadata": {},
     "output_type": "execute_result"
    }
   ],
   "source": [
    "# snapshots = np.linspace(1, 381, 38, endpoint=False, dtype=int)\n",
    "snapshots = np.append(np.linspace(1, 21, 20, endpoint=False, dtype=int), np.linspace(31, 331, 15, endpoint=False, dtype=int))\n",
    "snapshots "
   ]
  },
  {
   "cell_type": "code",
   "execution_count": 19,
   "metadata": {},
   "outputs": [
    {
     "data": {
      "application/vnd.jupyter.widget-view+json": {
       "model_id": "5da688a74f2b47ed82ca9b27fbea27a3",
       "version_major": 2,
       "version_minor": 0
      },
      "text/plain": [
       "interactive(children=(IntSlider(value=1, description='comma_idx', max=3, min=-1), Checkbox(value=True, descrip…"
      ]
     },
     "metadata": {},
     "output_type": "display_data"
    },
    {
     "data": {
      "application/vnd.jupyter.widget-view+json": {
       "model_id": "dbcadddbc51e4ee1ac7c13df461a1548",
       "version_major": 2,
       "version_minor": 0
      },
      "text/plain": [
       "interactive(children=(IntSlider(value=2, description='comma_idx', max=6, min=-2), Checkbox(value=True, descrip…"
      ]
     },
     "metadata": {},
     "output_type": "display_data"
    },
    {
     "data": {
      "application/vnd.jupyter.widget-view+json": {
       "model_id": "3147c440e49d47ceaedfe47fdadb1871",
       "version_major": 2,
       "version_minor": 0
      },
      "text/plain": [
       "interactive(children=(IntSlider(value=3, description='comma_idx', max=9, min=-3), Checkbox(value=True, descrip…"
      ]
     },
     "metadata": {},
     "output_type": "display_data"
    },
    {
     "data": {
      "application/vnd.jupyter.widget-view+json": {
       "model_id": "ad486440ea6046569f3e01ca4d83671f",
       "version_major": 2,
       "version_minor": 0
      },
      "text/plain": [
       "interactive(children=(IntSlider(value=4, description='comma_idx', max=12, min=-4), Checkbox(value=True, descri…"
      ]
     },
     "metadata": {},
     "output_type": "display_data"
    },
    {
     "data": {
      "application/vnd.jupyter.widget-view+json": {
       "model_id": "823b188ff0ab427faacaffd5b2f0d83c",
       "version_major": 2,
       "version_minor": 0
      },
      "text/plain": [
       "interactive(children=(IntSlider(value=5, description='comma_idx', max=15, min=-5), Checkbox(value=True, descri…"
      ]
     },
     "metadata": {},
     "output_type": "display_data"
    },
    {
     "data": {
      "application/vnd.jupyter.widget-view+json": {
       "model_id": "96319064ba754c99b75fb37e7df7afee",
       "version_major": 2,
       "version_minor": 0
      },
      "text/plain": [
       "interactive(children=(IntSlider(value=6, description='comma_idx', max=18, min=-6), Checkbox(value=True, descri…"
      ]
     },
     "metadata": {},
     "output_type": "display_data"
    },
    {
     "data": {
      "application/vnd.jupyter.widget-view+json": {
       "model_id": "30b239ad348e4fe6801a5f0889eafe67",
       "version_major": 2,
       "version_minor": 0
      },
      "text/plain": [
       "interactive(children=(IntSlider(value=7, description='comma_idx', max=21, min=-7), Checkbox(value=True, descri…"
      ]
     },
     "metadata": {},
     "output_type": "display_data"
    },
    {
     "data": {
      "application/vnd.jupyter.widget-view+json": {
       "model_id": "88e8e4dd774b4710bd2211c979ffd647",
       "version_major": 2,
       "version_minor": 0
      },
      "text/plain": [
       "interactive(children=(IntSlider(value=8, description='comma_idx', max=24, min=-8), Checkbox(value=True, descri…"
      ]
     },
     "metadata": {},
     "output_type": "display_data"
    },
    {
     "data": {
      "application/vnd.jupyter.widget-view+json": {
       "model_id": "e1dfdcd0170d4c6c81cff8de8eee9c5a",
       "version_major": 2,
       "version_minor": 0
      },
      "text/plain": [
       "interactive(children=(IntSlider(value=9, description='comma_idx', max=27, min=-9), Checkbox(value=True, descri…"
      ]
     },
     "metadata": {},
     "output_type": "display_data"
    },
    {
     "data": {
      "application/vnd.jupyter.widget-view+json": {
       "model_id": "964b522624a44c2d890a2ca07c711e14",
       "version_major": 2,
       "version_minor": 0
      },
      "text/plain": [
       "interactive(children=(IntSlider(value=10, description='comma_idx', max=30, min=-10), Checkbox(value=True, desc…"
      ]
     },
     "metadata": {},
     "output_type": "display_data"
    },
    {
     "data": {
      "application/vnd.jupyter.widget-view+json": {
       "model_id": "cc57daf91d60485387a385444b321daa",
       "version_major": 2,
       "version_minor": 0
      },
      "text/plain": [
       "interactive(children=(IntSlider(value=11, description='comma_idx', max=33, min=-11), Checkbox(value=True, desc…"
      ]
     },
     "metadata": {},
     "output_type": "display_data"
    },
    {
     "data": {
      "application/vnd.jupyter.widget-view+json": {
       "model_id": "b043b461ba5d4aadb026f99d9da79290",
       "version_major": 2,
       "version_minor": 0
      },
      "text/plain": [
       "interactive(children=(IntSlider(value=12, description='comma_idx', max=36, min=-12), Checkbox(value=True, desc…"
      ]
     },
     "metadata": {},
     "output_type": "display_data"
    },
    {
     "data": {
      "application/vnd.jupyter.widget-view+json": {
       "model_id": "fa6219dbb1de4db6ae16016fef1151e9",
       "version_major": 2,
       "version_minor": 0
      },
      "text/plain": [
       "interactive(children=(IntSlider(value=13, description='comma_idx', max=39, min=-13), Checkbox(value=True, desc…"
      ]
     },
     "metadata": {},
     "output_type": "display_data"
    },
    {
     "data": {
      "application/vnd.jupyter.widget-view+json": {
       "model_id": "278405a636db4931869ea124791cb20b",
       "version_major": 2,
       "version_minor": 0
      },
      "text/plain": [
       "interactive(children=(IntSlider(value=14, description='comma_idx', max=42, min=-14), Checkbox(value=True, desc…"
      ]
     },
     "metadata": {},
     "output_type": "display_data"
    },
    {
     "data": {
      "application/vnd.jupyter.widget-view+json": {
       "model_id": "cb25c03df1844e30b50dbe4c9cd3ee9b",
       "version_major": 2,
       "version_minor": 0
      },
      "text/plain": [
       "interactive(children=(IntSlider(value=15, description='comma_idx', max=45, min=-15), Checkbox(value=True, desc…"
      ]
     },
     "metadata": {},
     "output_type": "display_data"
    },
    {
     "data": {
      "application/vnd.jupyter.widget-view+json": {
       "model_id": "22769e1958b34a6ca0a88bb743836c3e",
       "version_major": 2,
       "version_minor": 0
      },
      "text/plain": [
       "interactive(children=(IntSlider(value=16, description='comma_idx', max=48, min=-16), Checkbox(value=True, desc…"
      ]
     },
     "metadata": {},
     "output_type": "display_data"
    },
    {
     "data": {
      "application/vnd.jupyter.widget-view+json": {
       "model_id": "22a3fcb506224dfc87d63faa187eb632",
       "version_major": 2,
       "version_minor": 0
      },
      "text/plain": [
       "interactive(children=(IntSlider(value=17, description='comma_idx', max=51, min=-17), Checkbox(value=True, desc…"
      ]
     },
     "metadata": {},
     "output_type": "display_data"
    },
    {
     "data": {
      "application/vnd.jupyter.widget-view+json": {
       "model_id": "56d2a913134147929df4087d90879da7",
       "version_major": 2,
       "version_minor": 0
      },
      "text/plain": [
       "interactive(children=(IntSlider(value=18, description='comma_idx', max=54, min=-18), Checkbox(value=True, desc…"
      ]
     },
     "metadata": {},
     "output_type": "display_data"
    },
    {
     "data": {
      "application/vnd.jupyter.widget-view+json": {
       "model_id": "52dee723d8d94db1b4e8122e6a998ddd",
       "version_major": 2,
       "version_minor": 0
      },
      "text/plain": [
       "interactive(children=(IntSlider(value=19, description='comma_idx', max=57, min=-19), Checkbox(value=True, desc…"
      ]
     },
     "metadata": {},
     "output_type": "display_data"
    },
    {
     "data": {
      "application/vnd.jupyter.widget-view+json": {
       "model_id": "cbff9cc5b68e4fdd99c2b7352a47bf64",
       "version_major": 2,
       "version_minor": 0
      },
      "text/plain": [
       "interactive(children=(IntSlider(value=20, description='comma_idx', max=60, min=-20), Checkbox(value=True, desc…"
      ]
     },
     "metadata": {},
     "output_type": "display_data"
    },
    {
     "data": {
      "application/vnd.jupyter.widget-view+json": {
       "model_id": "afe3c86ba6e04c2fae608900d2af215e",
       "version_major": 2,
       "version_minor": 0
      },
      "text/plain": [
       "interactive(children=(IntSlider(value=31, description='comma_idx', max=93, min=-31), Checkbox(value=True, desc…"
      ]
     },
     "metadata": {},
     "output_type": "display_data"
    },
    {
     "data": {
      "application/vnd.jupyter.widget-view+json": {
       "model_id": "84e4b5947cee4296b370e9c505997401",
       "version_major": 2,
       "version_minor": 0
      },
      "text/plain": [
       "interactive(children=(IntSlider(value=51, description='comma_idx', max=153, min=-51), Checkbox(value=True, des…"
      ]
     },
     "metadata": {},
     "output_type": "display_data"
    },
    {
     "data": {
      "application/vnd.jupyter.widget-view+json": {
       "model_id": "151424a30ae240f898cd1a6aa30f3f9d",
       "version_major": 2,
       "version_minor": 0
      },
      "text/plain": [
       "interactive(children=(IntSlider(value=71, description='comma_idx', max=213, min=-71), Checkbox(value=True, des…"
      ]
     },
     "metadata": {},
     "output_type": "display_data"
    },
    {
     "data": {
      "application/vnd.jupyter.widget-view+json": {
       "model_id": "27d149dd3e614acf962dbceb385b841d",
       "version_major": 2,
       "version_minor": 0
      },
      "text/plain": [
       "interactive(children=(IntSlider(value=91, description='comma_idx', max=273, min=-91), Checkbox(value=True, des…"
      ]
     },
     "metadata": {},
     "output_type": "display_data"
    },
    {
     "data": {
      "application/vnd.jupyter.widget-view+json": {
       "model_id": "f482a9fd87744834b85b1f77fcde6492",
       "version_major": 2,
       "version_minor": 0
      },
      "text/plain": [
       "interactive(children=(IntSlider(value=111, description='comma_idx', max=333, min=-111), Checkbox(value=True, d…"
      ]
     },
     "metadata": {},
     "output_type": "display_data"
    },
    {
     "data": {
      "application/vnd.jupyter.widget-view+json": {
       "model_id": "5eff855b01c94d0281c5dccfb1fe59d5",
       "version_major": 2,
       "version_minor": 0
      },
      "text/plain": [
       "interactive(children=(IntSlider(value=131, description='comma_idx', max=393, min=-131), Checkbox(value=True, d…"
      ]
     },
     "metadata": {},
     "output_type": "display_data"
    },
    {
     "data": {
      "application/vnd.jupyter.widget-view+json": {
       "model_id": "d39fc7a9e4284dcaa352121f04f3b7b0",
       "version_major": 2,
       "version_minor": 0
      },
      "text/plain": [
       "interactive(children=(IntSlider(value=151, description='comma_idx', max=453, min=-151), Checkbox(value=True, d…"
      ]
     },
     "metadata": {},
     "output_type": "display_data"
    },
    {
     "data": {
      "application/vnd.jupyter.widget-view+json": {
       "model_id": "ef8acaebed404752be9a8aa2f7822669",
       "version_major": 2,
       "version_minor": 0
      },
      "text/plain": [
       "interactive(children=(IntSlider(value=171, description='comma_idx', max=513, min=-171), Checkbox(value=True, d…"
      ]
     },
     "metadata": {},
     "output_type": "display_data"
    },
    {
     "data": {
      "application/vnd.jupyter.widget-view+json": {
       "model_id": "3562c7bef78f4e2cb162e8d72bfaf842",
       "version_major": 2,
       "version_minor": 0
      },
      "text/plain": [
       "interactive(children=(IntSlider(value=191, description='comma_idx', max=573, min=-191), Checkbox(value=True, d…"
      ]
     },
     "metadata": {},
     "output_type": "display_data"
    },
    {
     "data": {
      "application/vnd.jupyter.widget-view+json": {
       "model_id": "0fc1a96aa2eb4f92bffceb74c92d77fd",
       "version_major": 2,
       "version_minor": 0
      },
      "text/plain": [
       "interactive(children=(IntSlider(value=211, description='comma_idx', max=633, min=-211), Checkbox(value=True, d…"
      ]
     },
     "metadata": {},
     "output_type": "display_data"
    },
    {
     "data": {
      "application/vnd.jupyter.widget-view+json": {
       "model_id": "3b824b82179c48c2a511c19b21df5200",
       "version_major": 2,
       "version_minor": 0
      },
      "text/plain": [
       "interactive(children=(IntSlider(value=231, description='comma_idx', max=693, min=-231), Checkbox(value=True, d…"
      ]
     },
     "metadata": {},
     "output_type": "display_data"
    },
    {
     "data": {
      "application/vnd.jupyter.widget-view+json": {
       "model_id": "e3d23878049c47adbf6c61e7aeb62905",
       "version_major": 2,
       "version_minor": 0
      },
      "text/plain": [
       "interactive(children=(IntSlider(value=251, description='comma_idx', max=753, min=-251), Checkbox(value=True, d…"
      ]
     },
     "metadata": {},
     "output_type": "display_data"
    },
    {
     "data": {
      "application/vnd.jupyter.widget-view+json": {
       "model_id": "7a24a75a34474034b2589df2f68b376a",
       "version_major": 2,
       "version_minor": 0
      },
      "text/plain": [
       "interactive(children=(IntSlider(value=271, description='comma_idx', max=813, min=-271), Checkbox(value=True, d…"
      ]
     },
     "metadata": {},
     "output_type": "display_data"
    },
    {
     "data": {
      "application/vnd.jupyter.widget-view+json": {
       "model_id": "e988e52881e34583a380e558a81ce164",
       "version_major": 2,
       "version_minor": 0
      },
      "text/plain": [
       "interactive(children=(IntSlider(value=291, description='comma_idx', max=873, min=-291), Checkbox(value=True, d…"
      ]
     },
     "metadata": {},
     "output_type": "display_data"
    },
    {
     "data": {
      "application/vnd.jupyter.widget-view+json": {
       "model_id": "e1182768f6bf47b1a2fe195f6f8b7060",
       "version_major": 2,
       "version_minor": 0
      },
      "text/plain": [
       "interactive(children=(IntSlider(value=311, description='comma_idx', max=933, min=-311), Checkbox(value=True, d…"
      ]
     },
     "metadata": {},
     "output_type": "display_data"
    }
   ],
   "source": [
    "filenames = []\n",
    "for snapshot in snapshots:\n",
    "    interact(digiprob_plotter, comma_idx=snapshot, save_plot = True)"
   ]
  },
  {
   "cell_type": "code",
   "execution_count": 20,
   "metadata": {},
   "outputs": [],
   "source": [
    "# Create a GIF using snapshot made\n",
    "import imageio.v2 as imageio\n",
    "\n",
    "with imageio.get_writer('../figures/randomPDF_70B_snapshots.gif', mode='I', duration=500, loop=0) as writer:\n",
    "    for filename in filenames:\n",
    "        image = imageio.imread(filename)\n",
    "        writer.append_data(image)\n",
    "    for filename in filenames:\n",
    "        os.remove(filename)"
   ]
  },
  {
   "cell_type": "code",
   "execution_count": null,
   "metadata": {},
   "outputs": [],
   "source": []
  }
 ],
 "metadata": {
  "kernelspec": {
   "display_name": "LLM",
   "language": "python",
   "name": "python3"
  },
  "language_info": {
   "codemirror_mode": {
    "name": "ipython",
    "version": 3
   },
   "file_extension": ".py",
   "mimetype": "text/x-python",
   "name": "python",
   "nbconvert_exporter": "python",
   "pygments_lexer": "ipython3",
   "version": "3.11.4"
  }
 },
 "nbformat": 4,
 "nbformat_minor": 2
}
