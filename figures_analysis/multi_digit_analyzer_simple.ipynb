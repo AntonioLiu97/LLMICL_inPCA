{
 "cells": [
  {
   "cell_type": "code",
   "execution_count": 10,
   "metadata": {},
   "outputs": [
    {
     "name": "stdout",
     "output_type": "stream",
     "text": [
      "['/home/admin-quad/Toni/LLMICL_inPCA/figures_analysis', '/home/admin-quad/anaconda3/envs/LLM/lib/python311.zip', '/home/admin-quad/anaconda3/envs/LLM/lib/python3.11', '/home/admin-quad/anaconda3/envs/LLM/lib/python3.11/lib-dynload', '', '/home/admin-quad/anaconda3/envs/LLM/lib/python3.11/site-packages', '/home/admin-quad/LLM/llama', '/home/admin-quad/Toni/LLMICL_inPCA', '../models', '/home/admin-quad/Toni/LLMICL_inPCA', '../models']\n"
     ]
    }
   ],
   "source": [
    "import sys\n",
    "import os\n",
    "from pathlib import Path\n",
    "\n",
    "import sys\n",
    "import os\n",
    "from pathlib import Path\n",
    "parent_dir = os.path.dirname(os.getcwd())\n",
    "sys.path.append(parent_dir)\n",
    "sys.path.append(\"../models\")\n",
    "processed_series_path = Path(parent_dir) / 'processed_series'\n",
    "import copy\n",
    "from scipy.special import erf\n",
    "from scipy.stats import norm\n",
    "import numpy as np\n",
    "import matplotlib.pyplot as plt\n",
    "import pickle\n",
    "\n",
    "print(sys.path)\n",
    "from ICL import MultiResolutionPDF\n",
    "\n"
   ]
  },
  {
   "cell_type": "code",
   "execution_count": 11,
   "metadata": {},
   "outputs": [
    {
     "name": "stdout",
     "output_type": "stream",
     "text": [
      "[0]: uncorrelated_gaussian_centered_sigma_0.1_0.pkl, 13b, 2\n",
      "[1]: uncorrelated_gaussian_centered_sigma_0.1_1.pkl, 13b, 3\n",
      "[2]: uncorrelated_gaussian_centered_sigma_0.1_2.pkl, 7b, 2\n",
      "[3]: uncorrelated_gaussian_centered_sigma_0.1_3.pkl, 7b, 3\n",
      "[4]: uncorrelated_gaussian_centered_sigma_0.1_4.pkl, 70b, 2\n",
      "[5]: uncorrelated_gaussian_centered_sigma_0.1_5.pkl, 70b, 3\n",
      "[6]: uncorrelated_gaussian_centered_sigma_0.1_KDE_0.pkl, KDE, 2\n",
      "[7]: uncorrelated_gaussian_centered_sigma_0.1_KDE_1.pkl, KDE, 3\n",
      "[8]: uncorrelated_gaussian_centered_sigma_0.1_histogram_0.pkl, histogram, 2\n",
      "[9]: uncorrelated_gaussian_centered_sigma_0.1_histogram_1.pkl, histogram, 3\n",
      "[10]: uncorrelated_gaussian_centered_sigma_0.3_0.pkl, 13b, 2\n",
      "[11]: uncorrelated_gaussian_centered_sigma_0.3_1.pkl, 13b, 3\n",
      "[12]: uncorrelated_gaussian_centered_sigma_0.3_2.pkl, 7b, 2\n",
      "[13]: uncorrelated_gaussian_centered_sigma_0.3_3.pkl, 7b, 3\n",
      "[14]: uncorrelated_gaussian_centered_sigma_0.3_4.pkl, 70b, 2\n",
      "[15]: uncorrelated_gaussian_centered_sigma_0.3_5.pkl, 70b, 3\n",
      "[16]: uncorrelated_gaussian_centered_sigma_0.3_KDE_0.pkl, KDE, 2\n",
      "[17]: uncorrelated_gaussian_centered_sigma_0.3_KDE_1.pkl, KDE, 3\n",
      "[18]: uncorrelated_gaussian_centered_sigma_0.3_histogram_0.pkl, histogram, 2\n",
      "[19]: uncorrelated_gaussian_centered_sigma_0.3_histogram_1.pkl, histogram, 3\n",
      "[20]: uncorrelated_gaussian_centered_sigma_0.5_0.pkl, 13b, 2\n",
      "[21]: uncorrelated_gaussian_centered_sigma_0.5_1.pkl, 13b, 3\n",
      "[22]: uncorrelated_gaussian_centered_sigma_0.5_2.pkl, 7b, 2\n",
      "[23]: uncorrelated_gaussian_centered_sigma_0.5_3.pkl, 7b, 3\n",
      "[24]: uncorrelated_gaussian_centered_sigma_0.5_4.pkl, 70b, 2\n",
      "[25]: uncorrelated_gaussian_centered_sigma_0.5_5.pkl, 70b, 3\n",
      "[26]: uncorrelated_gaussian_centered_sigma_0.5_KDE_0.pkl, KDE, 2\n",
      "[27]: uncorrelated_gaussian_centered_sigma_0.5_KDE_1.pkl, KDE, 3\n",
      "[28]: uncorrelated_gaussian_centered_sigma_0.5_histogram_0.pkl, histogram, 2\n",
      "[29]: uncorrelated_gaussian_centered_sigma_0.5_histogram_1.pkl, histogram, 3\n",
      "[30]: uncorrelated_gaussian_centered_sigma_0.8_0.pkl, 13b, 2\n",
      "[31]: uncorrelated_gaussian_centered_sigma_0.8_1.pkl, 13b, 3\n",
      "[32]: uncorrelated_gaussian_centered_sigma_0.8_2.pkl, 7b, 2\n",
      "[33]: uncorrelated_gaussian_centered_sigma_0.8_3.pkl, 7b, 3\n",
      "[34]: uncorrelated_gaussian_centered_sigma_0.8_4.pkl, 70b, 2\n",
      "[35]: uncorrelated_gaussian_centered_sigma_0.8_KDE_0.pkl, KDE, 2\n",
      "[36]: uncorrelated_gaussian_centered_sigma_0.8_KDE_1.pkl, KDE, 3\n",
      "[37]: uncorrelated_gaussian_centered_sigma_0.8_histogram_0.pkl, histogram, 2\n",
      "[38]: uncorrelated_gaussian_centered_sigma_0.8_histogram_1.pkl, histogram, 3\n",
      "[39]: uncorrelated_uniform_centered_sigma_0.1_0.pkl, 13b, 2\n",
      "[40]: uncorrelated_uniform_centered_sigma_0.1_1.pkl, 13b, 3\n",
      "[41]: uncorrelated_uniform_centered_sigma_0.1_2.pkl, 7b, 2\n",
      "[42]: uncorrelated_uniform_centered_sigma_0.1_3.pkl, 7b, 3\n",
      "[43]: uncorrelated_uniform_centered_sigma_0.3_0.pkl, 13b, 2\n",
      "[44]: uncorrelated_uniform_centered_sigma_0.3_1.pkl, 13b, 3\n",
      "[45]: uncorrelated_uniform_centered_sigma_0.3_2.pkl, 7b, 2\n",
      "[46]: uncorrelated_uniform_centered_sigma_0.3_3.pkl, 7b, 3\n",
      "[47]: uncorrelated_uniform_centered_sigma_0.5_0.pkl, 13b, 2\n",
      "[48]: uncorrelated_uniform_centered_sigma_0.5_1.pkl, 13b, 3\n",
      "[49]: uncorrelated_uniform_centered_sigma_0.5_2.pkl, 7b, 2\n",
      "[50]: uncorrelated_uniform_centered_sigma_0.5_3.pkl, 7b, 3\n",
      "[51]: uncorrelated_uniform_centered_sigma_0.8_0.pkl, 13b, 2\n",
      "[52]: uncorrelated_uniform_centered_sigma_0.8_1.pkl, 13b, 3\n",
      "[53]: uncorrelated_uniform_centered_sigma_0.8_2.pkl, 7b, 2\n",
      "[54]: uncorrelated_uniform_centered_sigma_0.8_3.pkl, 7b, 3\n"
     ]
    }
   ],
   "source": [
    "all_files = sorted([path for path in processed_series_path.iterdir()], key=lambda x: x.name)\n",
    "for index, file in enumerate(all_files):\n",
    "    series_dict = pickle.load(file.open('rb'))\n",
    "    llama_size = series_dict['llama_size']\n",
    "    random_seed = series_dict['random_seed']\n",
    "    print(f\"[{index}]: {file.name}, {llama_size}, {random_seed}\")"
   ]
  },
  {
   "cell_type": "code",
   "execution_count": 12,
   "metadata": {},
   "outputs": [
    {
     "name": "stdout",
     "output_type": "stream",
     "text": [
      "seed: 3\n",
      "model name: histogram\n",
      "mode: all\n",
      "refine_depth: 1\n",
      "prec: 2\n",
      "name: uncorrelated_gaussian_centered_sigma_0.8_histogram_1\n"
     ]
    }
   ],
   "source": [
    "\n",
    "alpha = 1\n",
    "\n",
    "\n",
    "\n",
    "file = all_files[24]\n",
    "dist_type = 'uniform'\n",
    "\n",
    "file = all_files[12]\n",
    "\n",
    "file = all_files[22]\n",
    "\n",
    "file = all_files[6]\n",
    "\n",
    "file = all_files[4]\n",
    "\n",
    "file = all_files[2]\n",
    "\n",
    "file = all_files[16]\n",
    "\n",
    "file = all_files[38]\n",
    "\n",
    "dist_type = 'gaussian'\n",
    "\n",
    "\n",
    "processed_dict = pickle.load(file.open('rb'))\n",
    "full_series = processed_dict['full_series']\n",
    "rescaled_true_mean_arr = processed_dict['rescaled_true_mean_arr']\n",
    "rescaled_true_sigma_arr = processed_dict['rescaled_true_sigma_arr']\n",
    "llama_size = processed_dict['llama_size']\n",
    "mode = processed_dict['mode']\n",
    "refine_depth = processed_dict['refine_depth']\n",
    "random_seed = processed_dict['random_seed']\n",
    "PDF_list = processed_dict['PDF_list']\n",
    "time_series = processed_dict['time_series']\n",
    "prec = processed_dict['prec']\n",
    "print(f\"seed: {processed_dict['random_seed']}\")\n",
    "print(f\"model name: {llama_size}\")\n",
    "print(f\"mode: {mode}\")\n",
    "print(f\"refine_depth: {refine_depth}\")\n",
    "print(f\"prec: {prec}\")\n",
    "print(f\"name: {file.stem}\")"
   ]
  },
  {
   "cell_type": "code",
   "execution_count": 13,
   "metadata": {},
   "outputs": [],
   "source": [
    "### tune temperature \n",
    "\n",
    "for PDF in PDF_list:\n",
    "    if alpha != 1:\n",
    "        PDF.rescale_temperature(alpha)"
   ]
  },
  {
   "cell_type": "code",
   "execution_count": 14,
   "metadata": {},
   "outputs": [],
   "source": [
    "### Calculate true discretized distribution: PDF_list_true\n",
    "### Applies to gaussian distribution only\n",
    "\n",
    "PDF_true_list = copy.deepcopy(PDF_list)\n",
    "for PDF, PDF_true, true_mean, true_sigma in zip(PDF_list, PDF_true_list, rescaled_true_mean_arr, rescaled_true_sigma_arr):\n",
    "    def cdf(x):\n",
    "        if dist_type == \"gaussian\":\n",
    "            return 0.5 * (1 + erf((x - true_mean) / (true_sigma * np.sqrt(2))))\n",
    "        \n",
    "        elif dist_type == \"uniform\":\n",
    "            lower_bound = true_mean - true_sigma\n",
    "            upper_bound = true_mean + true_sigma\n",
    "            return np.where(\n",
    "                (x >= lower_bound) & (x <= upper_bound),\n",
    "                (x - lower_bound) / (2 * true_sigma),\n",
    "                np.where(x < lower_bound, 0, 1)\n",
    "            )\n",
    "        else:\n",
    "            raise NotImplementedError(\"This distribution type is not implemented.\")\n",
    "    \n",
    "    PDF_true.discretize(cdf, mode = \"cdf\")\n",
    "    PDF_true.compute_stats()"
   ]
  },
  {
   "cell_type": "code",
   "execution_count": 15,
   "metadata": {},
   "outputs": [
    {
     "data": {
      "application/vnd.jupyter.widget-view+json": {
       "model_id": "6e67193547a841e58b565939b37a8551",
       "version_major": 2,
       "version_minor": 0
      },
      "text/plain": [
       "interactive(children=(IntSlider(value=1, description='comma_idx', max=399, min=1), Output()), _dom_classes=('w…"
      ]
     },
     "metadata": {},
     "output_type": "display_data"
    }
   ],
   "source": [
    "from ipywidgets import interact\n",
    "import matplotlib.pyplot as plt\n",
    "from scipy.stats import norm, uniform\n",
    "save_path = f\"../figures/BM_example_temp{alpha}.png\"\n",
    "### Load multiple digits to MultiResolutionPDF\n",
    "comma_locations = np.sort(np.where(np.array(list(full_series)) == ',')[0])\n",
    "time_series_rescaled = (time_series-time_series.min()) / (time_series.max()-time_series.min()) * (8.5-1.5) + 1.5\n",
    "\n",
    "plot1_log_scale = 0\n",
    "log_scale = 0\n",
    "truth_PDF = 0\n",
    "# final_state = 709\n",
    "final_state = None\n",
    "\n",
    "### Plot distribution before ith comma\n",
    "def digiprob_plotter(comma_idx=1):\n",
    "    if comma_idx == 0:\n",
    "        start_idx = 0\n",
    "    else:\n",
    "        start_idx = comma_locations[comma_idx-1]+1\n",
    "    if truth_PDF:\n",
    "        fig, axs = plt.subplots(3, 1, figsize=(8, 5), dpi = 200)\n",
    "    else:\n",
    "        fig, axs = plt.subplots(2, 1, figsize=(8, 10/3), dpi = 200)\n",
    "    # Adjust the horizontal space between subplots\n",
    "    plt.subplots_adjust(hspace=0.7)\n",
    "    # Plot the full array with a marker on the selected value\n",
    "    if final_state is not None:\n",
    "        time_series_plot = time_series_rescaled[:final_state+1]\n",
    "        axs[0].set_xlim(-10, final_state+10)\n",
    "    else:\n",
    "        time_series_plot = time_series_rescaled\n",
    "    axs[0].plot(time_series_plot[:-1], marker='o', color='black', markersize=2, lw = '0.1', label = \"observation\")\n",
    "    axs[0].scatter(comma_idx, time_series_plot[comma_idx], color='r', marker='o', label = \"prediction\")\n",
    "    axs[0].set_xlabel('context lenght')\n",
    "    axs[0].set_ylabel(r'rescaled $x$')\n",
    "    \n",
    "    if plot1_log_scale:\n",
    "        axs[0].set_yscale('log')\n",
    "        \n",
    "    # Plot softmax distributions for each digit\n",
    "    axs[1].set_ylabel(\"probability density\")\n",
    "    # axs[1].set_title(full_series[start_idx-30:start_idx] + \"?\")      \n",
    "    PDF_list[comma_idx].compute_stats()\n",
    "    PDF_list[comma_idx].plot(ax = axs[1], log_scale=log_scale, statistic = False)\n",
    "    if truth_PDF:\n",
    "        PDF_true_list[comma_idx].plot(ax = axs[2], log_scale=log_scale, statistic = False)\n",
    "        axs[2].set_title('discretized truth')\n",
    "        axs[2].set_xlabel(\"Digit\")\n",
    "    \n",
    "    # characterizing ground truth distribution\n",
    "    true_mean = rescaled_true_mean_arr[comma_idx]\n",
    "    true_sigma = rescaled_true_sigma_arr[comma_idx]\n",
    "    if true_sigma == 0:\n",
    "        axs[1].vlines(true_mean, 0, np.max(PDF_list[comma_idx].bin_height_arr), color='r', label='Truth', lw = 3, alpha = 0.7)\n",
    "    else:\n",
    "        x_values = np.linspace(0, 10, 300)\n",
    "        if dist_type == \"gaussian\":\n",
    "            true_PDF = norm.pdf(x_values, true_mean, true_sigma)\n",
    "        elif dist_type == \"uniform\": \n",
    "            true_PDF = uniform.pdf(x_values, true_mean-true_sigma, true_sigma*2)\n",
    "        else:\n",
    "            raise NotImplementedError(\"This distribution type is not implemented.\")\n",
    "        axs[1].plot(x_values, true_PDF, color = 'r', label = 'Truth', lw = 3, alpha = 0.7)\n",
    "        # axs[1].vlines(true_mean, 0, np.max(gaussian), color = 'r')\n",
    "    # axs[1].set_ylim(np.min(pdf.bin_height_arr), np.max(gaussian)*1.7)\n",
    "    axs[1].set_xlabel(r'rescaled $x$')\n",
    "    axs[1].bar([0], [0], color='dodgerblue', label='LLM Prediction')\n",
    "    axs[1].set_xlim(0,10)\n",
    "    # axs[1].set_ylim(0,5)\n",
    "    axs[0].legend()\n",
    "    axs[1].legend()\n",
    "    if log_scale:\n",
    "        axs[1].set_ylim(0.005,10)\n",
    "        if truth_PDF:\n",
    "            axs[2].set_ylim(0.0005,10)\n",
    "    if final_state is not None: \n",
    "        plt.tight_layout()\n",
    "        plt.savefig(save_path)\n",
    "\n",
    "# Adjust the range of the slider to match the number of commas in the series\n",
    "num_commas = full_series.count(',')\n",
    "if final_state is not None: \n",
    "    interact(digiprob_plotter, comma_idx=final_state)\n",
    "else:\n",
    "    interact(digiprob_plotter, comma_idx=(1, num_commas-1, 1))"
   ]
  },
  {
   "cell_type": "code",
   "execution_count": 16,
   "metadata": {},
   "outputs": [
    {
     "data": {
      "text/plain": [
       "array([0.05, 0.15, 0.25, 0.35, 0.45, 0.55, 0.65, 0.75, 0.85, 0.95, 1.05,\n",
       "       1.15, 1.25, 1.35, 1.45, 1.55, 1.65, 1.75, 1.85, 1.95, 2.05, 2.15,\n",
       "       2.25, 2.35, 2.45, 2.55, 2.65, 2.75, 2.85, 2.95, 3.05, 3.15, 3.25,\n",
       "       3.35, 3.45, 3.55, 3.65, 3.75, 3.85, 3.95, 4.05, 4.15, 4.25, 4.35,\n",
       "       4.45, 4.55, 4.65, 4.75, 4.85, 4.95, 5.05, 5.15, 5.25, 5.35, 5.45,\n",
       "       5.55, 5.65, 5.75, 5.85, 5.95, 6.05, 6.15, 6.25, 6.35, 6.45, 6.55,\n",
       "       6.65, 6.75, 6.85, 6.95, 7.05, 7.15, 7.25, 7.35, 7.45, 7.55, 7.65,\n",
       "       7.75, 7.85, 7.95, 8.05, 8.15, 8.25, 8.35, 8.45, 8.55, 8.65, 8.75,\n",
       "       8.85, 8.95, 9.05, 9.15, 9.25, 9.35, 9.45, 9.55, 9.65, 9.75, 9.85,\n",
       "       9.95])"
      ]
     },
     "execution_count": 16,
     "metadata": {},
     "output_type": "execute_result"
    }
   ],
   "source": [
    "PDF_list[0].bin_center_arr"
   ]
  },
  {
   "cell_type": "code",
   "execution_count": 20,
   "metadata": {},
   "outputs": [
    {
     "data": {
      "text/plain": [
       "True"
      ]
     },
     "execution_count": 20,
     "metadata": {},
     "output_type": "execute_result"
    }
   ],
   "source": [
    "a = np.float64(2.0)  # double precision\n",
    "b = np.float32(2.0)  # single precision\n",
    "a==b"
   ]
  },
  {
   "cell_type": "code",
   "execution_count": null,
   "metadata": {},
   "outputs": [],
   "source": []
  }
 ],
 "metadata": {
  "kernelspec": {
   "display_name": "LLM",
   "language": "python",
   "name": "python3"
  },
  "language_info": {
   "codemirror_mode": {
    "name": "ipython",
    "version": 3
   },
   "file_extension": ".py",
   "mimetype": "text/x-python",
   "name": "python",
   "nbconvert_exporter": "python",
   "pygments_lexer": "ipython3",
   "version": "3.11.4"
  }
 },
 "nbformat": 4,
 "nbformat_minor": 2
}
