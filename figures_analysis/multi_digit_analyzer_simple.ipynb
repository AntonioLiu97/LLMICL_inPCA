{
 "cells": [
  {
   "cell_type": "code",
   "execution_count": 1,
   "metadata": {},
   "outputs": [
    {
     "name": "stdout",
     "output_type": "stream",
     "text": [
      "['/home/admin-quad/Toni/LLMICL_inPCA/figures_analysis', '/home/admin-quad/anaconda3/envs/LLM/lib/python311.zip', '/home/admin-quad/anaconda3/envs/LLM/lib/python3.11', '/home/admin-quad/anaconda3/envs/LLM/lib/python3.11/lib-dynload', '', '/home/admin-quad/anaconda3/envs/LLM/lib/python3.11/site-packages', '/home/admin-quad/LLM/llama', '/home/admin-quad/Toni/LLMICL_inPCA', '../models']\n"
     ]
    }
   ],
   "source": [
    "import sys\n",
    "import os\n",
    "from pathlib import Path\n",
    "\n",
    "import sys\n",
    "import os\n",
    "from pathlib import Path\n",
    "parent_dir = os.path.dirname(os.getcwd())\n",
    "sys.path.append(parent_dir)\n",
    "sys.path.append(\"../models\")\n",
    "processed_series_path = Path(parent_dir) / 'processed_series'\n",
    "import copy\n",
    "from scipy.special import erf\n",
    "from scipy.stats import norm\n",
    "import numpy as np\n",
    "import matplotlib.pyplot as plt\n",
    "import pickle\n",
    "\n",
    "print(sys.path)\n",
    "from ICL import MultiResolutionPDF\n",
    "\n"
   ]
  },
  {
   "cell_type": "code",
   "execution_count": 2,
   "metadata": {},
   "outputs": [
    {
     "name": "stdout",
     "output_type": "stream",
     "text": [
      "[0]: uncorrelated_gaussian_centered_sigma_0.1_0.pkl, 13b, 2, \n",
      "[1]: uncorrelated_gaussian_centered_sigma_0.1_1.pkl, 13b, 3, \n",
      "[2]: uncorrelated_gaussian_centered_sigma_0.1_2.pkl, 7b, 2, \n",
      "[3]: uncorrelated_gaussian_centered_sigma_0.1_3.pkl, 7b, 3, \n",
      "[4]: uncorrelated_gaussian_centered_sigma_0.1_4.pkl, 70b, 2, \n",
      "[5]: uncorrelated_gaussian_centered_sigma_0.1_5.pkl, 70b, 3, \n",
      "[6]: uncorrelated_gaussian_centered_sigma_0.1_KDE_0.pkl, KDE, 2, gaussian\n",
      "[7]: uncorrelated_gaussian_centered_sigma_0.1_KDE_1.pkl, KDE, 3, gaussian\n",
      "[8]: uncorrelated_gaussian_centered_sigma_0.1_KDE_10.pkl, KDE, 2, cosine\n",
      "[9]: uncorrelated_gaussian_centered_sigma_0.1_KDE_11.pkl, KDE, 3, cosine\n",
      "[10]: uncorrelated_gaussian_centered_sigma_0.1_KDE_118.pkl, KDE, 2, gaussian\n",
      "[11]: uncorrelated_gaussian_centered_sigma_0.1_KDE_12.pkl, KDE, 2, gaussian\n",
      "[12]: uncorrelated_gaussian_centered_sigma_0.1_KDE_13.pkl, KDE, 2, gaussian\n",
      "[13]: uncorrelated_gaussian_centered_sigma_0.1_KDE_14.pkl, KDE, 2, gaussian\n",
      "[14]: uncorrelated_gaussian_centered_sigma_0.1_KDE_15.pkl, KDE, 2, gaussian\n",
      "[15]: uncorrelated_gaussian_centered_sigma_0.1_KDE_16.pkl, KDE, 2, gaussian\n",
      "[16]: uncorrelated_gaussian_centered_sigma_0.1_KDE_17.pkl, KDE, 2, epanechnikov\n",
      "[17]: uncorrelated_gaussian_centered_sigma_0.1_KDE_18.pkl, KDE, 2, gaussian\n",
      "[18]: uncorrelated_gaussian_centered_sigma_0.1_KDE_2.pkl, KDE, 2, epanechnikov\n",
      "[19]: uncorrelated_gaussian_centered_sigma_0.1_KDE_218.pkl, KDE, 2, exponential\n",
      "[20]: uncorrelated_gaussian_centered_sigma_0.1_KDE_3.pkl, KDE, 3, epanechnikov\n",
      "[21]: uncorrelated_gaussian_centered_sigma_0.1_KDE_318.pkl, KDE, 2, gaussian\n",
      "[22]: uncorrelated_gaussian_centered_sigma_0.1_KDE_4.pkl, KDE, 2, tophat\n",
      "[23]: uncorrelated_gaussian_centered_sigma_0.1_KDE_418.pkl, KDE, 2, epanechnikov\n",
      "[24]: uncorrelated_gaussian_centered_sigma_0.1_KDE_5.pkl, KDE, 3, tophat\n",
      "[25]: uncorrelated_gaussian_centered_sigma_0.1_KDE_518.pkl, KDE, 2, tophat\n",
      "[26]: uncorrelated_gaussian_centered_sigma_0.1_KDE_6.pkl, KDE, 2, linear\n",
      "[27]: uncorrelated_gaussian_centered_sigma_0.1_KDE_618.pkl, KDE, 2, linear\n",
      "[28]: uncorrelated_gaussian_centered_sigma_0.1_KDE_7.pkl, KDE, 3, linear\n",
      "[29]: uncorrelated_gaussian_centered_sigma_0.1_KDE_718.pkl, KDE, 2, cosine\n",
      "[30]: uncorrelated_gaussian_centered_sigma_0.1_KDE_8.pkl, KDE, 2, exponential\n",
      "[31]: uncorrelated_gaussian_centered_sigma_0.1_KDE_9.pkl, KDE, 3, exponential\n",
      "[32]: uncorrelated_gaussian_centered_sigma_0.1_Mistral-7B-v0.3_99.pkl, Mistral-7B-v0.3, 2, NA\n",
      "[33]: uncorrelated_gaussian_centered_sigma_0.1_gemma-2b_99.pkl, gemma-2b, 2, NA\n",
      "[34]: uncorrelated_gaussian_centered_sigma_0.1_histogram_0.pkl, histogram, 2, NA\n",
      "[35]: uncorrelated_gaussian_centered_sigma_0.1_histogram_1.pkl, histogram, 3, NA\n",
      "[36]: uncorrelated_gaussian_centered_sigma_0.1_histogram_2.pkl, histogram, 2, NA\n",
      "[37]: uncorrelated_gaussian_centered_sigma_0.3_0.pkl, 13b, 2, \n",
      "[38]: uncorrelated_gaussian_centered_sigma_0.3_1.pkl, 13b, 3, \n",
      "[39]: uncorrelated_gaussian_centered_sigma_0.3_2.pkl, 7b, 2, \n",
      "[40]: uncorrelated_gaussian_centered_sigma_0.3_3.pkl, 7b, 3, \n",
      "[41]: uncorrelated_gaussian_centered_sigma_0.3_4.pkl, 70b, 2, \n",
      "[42]: uncorrelated_gaussian_centered_sigma_0.3_5.pkl, 70b, 3, \n",
      "[43]: uncorrelated_gaussian_centered_sigma_0.3_KDE_0.pkl, KDE, 2, gaussian\n",
      "[44]: uncorrelated_gaussian_centered_sigma_0.3_KDE_1.pkl, KDE, 3, gaussian\n",
      "[45]: uncorrelated_gaussian_centered_sigma_0.3_KDE_104.pkl, KDE, 2, gaussian\n",
      "[46]: uncorrelated_gaussian_centered_sigma_0.3_KDE_2.pkl, KDE, 2, epanechnikov\n",
      "[47]: uncorrelated_gaussian_centered_sigma_0.3_KDE_3.pkl, KDE, 3, epanechnikov\n",
      "[48]: uncorrelated_gaussian_centered_sigma_0.3_KDE_4.pkl, KDE, 2, gaussian\n",
      "[49]: uncorrelated_gaussian_centered_sigma_0.3_Mistral-7B-v0.3_99.pkl, Mistral-7B-v0.3, 2, NA\n",
      "[50]: uncorrelated_gaussian_centered_sigma_0.3_histogram_0.pkl, histogram, 2, NA\n",
      "[51]: uncorrelated_gaussian_centered_sigma_0.3_histogram_1.pkl, histogram, 3, NA\n",
      "[52]: uncorrelated_gaussian_centered_sigma_0.5_0.pkl, 13b, 2, \n",
      "[53]: uncorrelated_gaussian_centered_sigma_0.5_1.pkl, 13b, 3, \n",
      "[54]: uncorrelated_gaussian_centered_sigma_0.5_2.pkl, 7b, 2, \n",
      "[55]: uncorrelated_gaussian_centered_sigma_0.5_3.pkl, 7b, 3, \n",
      "[56]: uncorrelated_gaussian_centered_sigma_0.5_4.pkl, 70b, 2, \n",
      "[57]: uncorrelated_gaussian_centered_sigma_0.5_5.pkl, 70b, 3, \n",
      "[58]: uncorrelated_gaussian_centered_sigma_0.5_KDE_0.pkl, KDE, 2, gaussian\n",
      "[59]: uncorrelated_gaussian_centered_sigma_0.5_KDE_1.pkl, KDE, 3, gaussian\n",
      "[60]: uncorrelated_gaussian_centered_sigma_0.5_KDE_102.pkl, KDE, 2, gaussian\n",
      "[61]: uncorrelated_gaussian_centered_sigma_0.5_KDE_2.pkl, KDE, 2, gaussian\n",
      "[62]: uncorrelated_gaussian_centered_sigma_0.5_Mistral-7B-v0.3_99.pkl, Mistral-7B-v0.3, 2, NA\n",
      "[63]: uncorrelated_gaussian_centered_sigma_0.5_histogram_0.pkl, histogram, 2, NA\n",
      "[64]: uncorrelated_gaussian_centered_sigma_0.5_histogram_1.pkl, histogram, 3, NA\n",
      "[65]: uncorrelated_gaussian_centered_sigma_0.8_0.pkl, 13b, 2, \n",
      "[66]: uncorrelated_gaussian_centered_sigma_0.8_1.pkl, 13b, 3, \n",
      "[67]: uncorrelated_gaussian_centered_sigma_0.8_2.pkl, 7b, 2, \n",
      "[68]: uncorrelated_gaussian_centered_sigma_0.8_3.pkl, 7b, 3, \n",
      "[69]: uncorrelated_gaussian_centered_sigma_0.8_4.pkl, 70b, 2, \n",
      "[70]: uncorrelated_gaussian_centered_sigma_0.8_5.pkl, 70b, 3, \n",
      "[71]: uncorrelated_gaussian_centered_sigma_0.8_KDE_0.pkl, KDE, 2, gaussian\n",
      "[72]: uncorrelated_gaussian_centered_sigma_0.8_KDE_1.pkl, KDE, 3, gaussian\n",
      "[73]: uncorrelated_gaussian_centered_sigma_0.8_KDE_102.pkl, KDE, 2, gaussian\n",
      "[74]: uncorrelated_gaussian_centered_sigma_0.8_KDE_2.pkl, KDE, 2, gaussian\n",
      "[75]: uncorrelated_gaussian_centered_sigma_0.8_histogram_0.pkl, histogram, 2, NA\n",
      "[76]: uncorrelated_gaussian_centered_sigma_0.8_histogram_1.pkl, histogram, 3, NA\n",
      "[77]: uncorrelated_random_PDF_l_0.02_13b_0.pkl, 13b, 0, NA\n",
      "[78]: uncorrelated_random_PDF_l_0.02_13b_1.pkl, 13b, 1, NA\n",
      "[79]: uncorrelated_random_PDF_l_0.02_13b_10.pkl, 13b, 8, NA\n",
      "[80]: uncorrelated_random_PDF_l_0.02_13b_11.pkl, 13b, 16, NA\n",
      "[81]: uncorrelated_random_PDF_l_0.02_13b_2.pkl, 13b, 3, NA\n",
      "[82]: uncorrelated_random_PDF_l_0.02_13b_3.pkl, 13b, 5, NA\n",
      "[83]: uncorrelated_random_PDF_l_0.02_13b_4.pkl, 13b, 7, NA\n",
      "[84]: uncorrelated_random_PDF_l_0.02_13b_5.pkl, 13b, 9, NA\n",
      "[85]: uncorrelated_random_PDF_l_0.02_13b_6.pkl, 13b, 11, NA\n",
      "[86]: uncorrelated_random_PDF_l_0.02_13b_7.pkl, 13b, 13, NA\n",
      "[87]: uncorrelated_random_PDF_l_0.02_13b_8.pkl, 13b, 15, NA\n",
      "[88]: uncorrelated_random_PDF_l_0.02_13b_9.pkl, 13b, 17, NA\n",
      "[89]: uncorrelated_random_PDF_l_0.02_70b_0.pkl, 70b, 8, NA\n",
      "[90]: uncorrelated_random_PDF_l_0.02_70b_1.pkl, 70b, 16, NA\n",
      "[91]: uncorrelated_random_PDF_l_0.02_7b_0.pkl, 7b, 8, NA\n",
      "[92]: uncorrelated_random_PDF_l_0.02_7b_1.pkl, 7b, 16, NA\n",
      "[93]: uncorrelated_random_PDF_l_0.02_KDE_0.pkl, KDE, 5, epanechnikov\n",
      "[94]: uncorrelated_random_PDF_l_0.02_KDE_1.pkl, KDE, 0, gaussian\n",
      "[95]: uncorrelated_random_PDF_l_0.02_KDE_10.pkl, KDE, 3, gaussian\n",
      "[96]: uncorrelated_random_PDF_l_0.02_KDE_11.pkl, KDE, 3, gaussian\n",
      "[97]: uncorrelated_random_PDF_l_0.02_KDE_12.pkl, KDE, 3, gaussian\n",
      "[98]: uncorrelated_random_PDF_l_0.02_KDE_13.pkl, KDE, 5, gaussian\n",
      "[99]: uncorrelated_random_PDF_l_0.02_KDE_14.pkl, KDE, 5, gaussian\n",
      "[100]: uncorrelated_random_PDF_l_0.02_KDE_15.pkl, KDE, 5, gaussian\n",
      "[101]: uncorrelated_random_PDF_l_0.02_KDE_154.pkl, KDE, 8, gaussian\n",
      "[102]: uncorrelated_random_PDF_l_0.02_KDE_16.pkl, KDE, 5, gaussian\n",
      "[103]: uncorrelated_random_PDF_l_0.02_KDE_17.pkl, KDE, 7, gaussian\n",
      "[104]: uncorrelated_random_PDF_l_0.02_KDE_18.pkl, KDE, 7, gaussian\n",
      "[105]: uncorrelated_random_PDF_l_0.02_KDE_19.pkl, KDE, 7, gaussian\n",
      "[106]: uncorrelated_random_PDF_l_0.02_KDE_2.pkl, KDE, 0, gaussian\n",
      "[107]: uncorrelated_random_PDF_l_0.02_KDE_20.pkl, KDE, 7, gaussian\n",
      "[108]: uncorrelated_random_PDF_l_0.02_KDE_21.pkl, KDE, 9, gaussian\n",
      "[109]: uncorrelated_random_PDF_l_0.02_KDE_22.pkl, KDE, 9, gaussian\n",
      "[110]: uncorrelated_random_PDF_l_0.02_KDE_23.pkl, KDE, 9, gaussian\n",
      "[111]: uncorrelated_random_PDF_l_0.02_KDE_24.pkl, KDE, 9, gaussian\n",
      "[112]: uncorrelated_random_PDF_l_0.02_KDE_25.pkl, KDE, 11, gaussian\n",
      "[113]: uncorrelated_random_PDF_l_0.02_KDE_254.pkl, KDE, 16, gaussian\n",
      "[114]: uncorrelated_random_PDF_l_0.02_KDE_26.pkl, KDE, 11, gaussian\n",
      "[115]: uncorrelated_random_PDF_l_0.02_KDE_27.pkl, KDE, 11, gaussian\n",
      "[116]: uncorrelated_random_PDF_l_0.02_KDE_28.pkl, KDE, 11, gaussian\n",
      "[117]: uncorrelated_random_PDF_l_0.02_KDE_29.pkl, KDE, 13, gaussian\n",
      "[118]: uncorrelated_random_PDF_l_0.02_KDE_3.pkl, KDE, 0, gaussian\n",
      "[119]: uncorrelated_random_PDF_l_0.02_KDE_30.pkl, KDE, 13, gaussian\n",
      "[120]: uncorrelated_random_PDF_l_0.02_KDE_31.pkl, KDE, 13, gaussian\n",
      "[121]: uncorrelated_random_PDF_l_0.02_KDE_32.pkl, KDE, 13, gaussian\n",
      "[122]: uncorrelated_random_PDF_l_0.02_KDE_33.pkl, KDE, 15, gaussian\n",
      "[123]: uncorrelated_random_PDF_l_0.02_KDE_34.pkl, KDE, 15, gaussian\n",
      "[124]: uncorrelated_random_PDF_l_0.02_KDE_35.pkl, KDE, 15, gaussian\n",
      "[125]: uncorrelated_random_PDF_l_0.02_KDE_36.pkl, KDE, 15, gaussian\n",
      "[126]: uncorrelated_random_PDF_l_0.02_KDE_37.pkl, KDE, 17, gaussian\n",
      "[127]: uncorrelated_random_PDF_l_0.02_KDE_38.pkl, KDE, 17, gaussian\n",
      "[128]: uncorrelated_random_PDF_l_0.02_KDE_39.pkl, KDE, 17, gaussian\n",
      "[129]: uncorrelated_random_PDF_l_0.02_KDE_4.pkl, KDE, 0, gaussian\n",
      "[130]: uncorrelated_random_PDF_l_0.02_KDE_40.pkl, KDE, 17, gaussian\n",
      "[131]: uncorrelated_random_PDF_l_0.02_KDE_41.pkl, KDE, 0, epanechnikov\n",
      "[132]: uncorrelated_random_PDF_l_0.02_KDE_42.pkl, KDE, 1, epanechnikov\n",
      "[133]: uncorrelated_random_PDF_l_0.02_KDE_43.pkl, KDE, 3, epanechnikov\n",
      "[134]: uncorrelated_random_PDF_l_0.02_KDE_44.pkl, KDE, 5, epanechnikov\n",
      "[135]: uncorrelated_random_PDF_l_0.02_KDE_45.pkl, KDE, 7, epanechnikov\n",
      "[136]: uncorrelated_random_PDF_l_0.02_KDE_46.pkl, KDE, 9, epanechnikov\n",
      "[137]: uncorrelated_random_PDF_l_0.02_KDE_47.pkl, KDE, 11, epanechnikov\n",
      "[138]: uncorrelated_random_PDF_l_0.02_KDE_48.pkl, KDE, 13, epanechnikov\n",
      "[139]: uncorrelated_random_PDF_l_0.02_KDE_49.pkl, KDE, 15, epanechnikov\n",
      "[140]: uncorrelated_random_PDF_l_0.02_KDE_5.pkl, KDE, 1, gaussian\n",
      "[141]: uncorrelated_random_PDF_l_0.02_KDE_50.pkl, KDE, 17, epanechnikov\n",
      "[142]: uncorrelated_random_PDF_l_0.02_KDE_51.pkl, KDE, 8, gaussian\n",
      "[143]: uncorrelated_random_PDF_l_0.02_KDE_52.pkl, KDE, 16, gaussian\n",
      "[144]: uncorrelated_random_PDF_l_0.02_KDE_53.pkl, KDE, 8, gaussian\n",
      "[145]: uncorrelated_random_PDF_l_0.02_KDE_54.pkl, KDE, 16, gaussian\n",
      "[146]: uncorrelated_random_PDF_l_0.02_KDE_6.pkl, KDE, 1, gaussian\n",
      "[147]: uncorrelated_random_PDF_l_0.02_KDE_7.pkl, KDE, 1, gaussian\n",
      "[148]: uncorrelated_random_PDF_l_0.02_KDE_8.pkl, KDE, 1, gaussian\n",
      "[149]: uncorrelated_random_PDF_l_0.02_KDE_9.pkl, KDE, 3, gaussian\n",
      "[150]: uncorrelated_random_PDF_l_0.02_histogram_0.pkl, histogram, 0, NA\n",
      "[151]: uncorrelated_random_PDF_l_0.02_histogram_1.pkl, histogram, 1, NA\n",
      "[152]: uncorrelated_random_PDF_l_0.02_histogram_10.pkl, histogram, 8, NA\n",
      "[153]: uncorrelated_random_PDF_l_0.02_histogram_11.pkl, histogram, 16, NA\n",
      "[154]: uncorrelated_random_PDF_l_0.02_histogram_117.pkl, histogram, 8, NA\n",
      "[155]: uncorrelated_random_PDF_l_0.02_histogram_12.pkl, histogram, 8, NA\n",
      "[156]: uncorrelated_random_PDF_l_0.02_histogram_13.pkl, histogram, 16, NA\n",
      "[157]: uncorrelated_random_PDF_l_0.02_histogram_14.pkl, histogram, 8, NA\n",
      "[158]: uncorrelated_random_PDF_l_0.02_histogram_15.pkl, histogram, 16, NA\n",
      "[159]: uncorrelated_random_PDF_l_0.02_histogram_16.pkl, histogram, 8, NA\n",
      "[160]: uncorrelated_random_PDF_l_0.02_histogram_17.pkl, histogram, 16, NA\n",
      "[161]: uncorrelated_random_PDF_l_0.02_histogram_2.pkl, histogram, 3, NA\n",
      "[162]: uncorrelated_random_PDF_l_0.02_histogram_217.pkl, histogram, 16, NA\n",
      "[163]: uncorrelated_random_PDF_l_0.02_histogram_3.pkl, histogram, 5, NA\n",
      "[164]: uncorrelated_random_PDF_l_0.02_histogram_4.pkl, histogram, 7, NA\n",
      "[165]: uncorrelated_random_PDF_l_0.02_histogram_5.pkl, histogram, 9, NA\n",
      "[166]: uncorrelated_random_PDF_l_0.02_histogram_6.pkl, histogram, 11, NA\n",
      "[167]: uncorrelated_random_PDF_l_0.02_histogram_7.pkl, histogram, 13, NA\n",
      "[168]: uncorrelated_random_PDF_l_0.02_histogram_8.pkl, histogram, 15, NA\n",
      "[169]: uncorrelated_random_PDF_l_0.02_histogram_9.pkl, histogram, 17, NA\n",
      "[170]: uncorrelated_random_PDF_l_0.05_13b_0.pkl, 13b, 0, NA\n",
      "[171]: uncorrelated_random_PDF_l_0.05_13b_1.pkl, 13b, 1, NA\n",
      "[172]: uncorrelated_random_PDF_l_0.05_13b_2.pkl, 13b, 3, NA\n",
      "[173]: uncorrelated_random_PDF_l_0.05_13b_3.pkl, 13b, 5, NA\n",
      "[174]: uncorrelated_random_PDF_l_0.05_13b_4.pkl, 13b, 7, NA\n",
      "[175]: uncorrelated_random_PDF_l_0.05_13b_5.pkl, 13b, 9, NA\n",
      "[176]: uncorrelated_random_PDF_l_0.05_13b_6.pkl, 13b, 11, NA\n",
      "[177]: uncorrelated_random_PDF_l_0.05_13b_7.pkl, 13b, 13, NA\n",
      "[178]: uncorrelated_random_PDF_l_0.05_13b_8.pkl, 13b, 15, NA\n",
      "[179]: uncorrelated_random_PDF_l_0.05_13b_9.pkl, 13b, 17, NA\n",
      "[180]: uncorrelated_random_PDF_l_0.05_KDE_0.pkl, KDE, 0, gaussian\n",
      "[181]: uncorrelated_random_PDF_l_0.05_KDE_1.pkl, KDE, 0, gaussian\n",
      "[182]: uncorrelated_random_PDF_l_0.05_KDE_10.pkl, KDE, 3, gaussian\n",
      "[183]: uncorrelated_random_PDF_l_0.05_KDE_11.pkl, KDE, 3, gaussian\n",
      "[184]: uncorrelated_random_PDF_l_0.05_KDE_12.pkl, KDE, 5, gaussian\n",
      "[185]: uncorrelated_random_PDF_l_0.05_KDE_13.pkl, KDE, 5, gaussian\n",
      "[186]: uncorrelated_random_PDF_l_0.05_KDE_14.pkl, KDE, 5, gaussian\n",
      "[187]: uncorrelated_random_PDF_l_0.05_KDE_15.pkl, KDE, 5, gaussian\n",
      "[188]: uncorrelated_random_PDF_l_0.05_KDE_16.pkl, KDE, 7, gaussian\n",
      "[189]: uncorrelated_random_PDF_l_0.05_KDE_17.pkl, KDE, 7, gaussian\n",
      "[190]: uncorrelated_random_PDF_l_0.05_KDE_18.pkl, KDE, 7, gaussian\n",
      "[191]: uncorrelated_random_PDF_l_0.05_KDE_19.pkl, KDE, 7, gaussian\n",
      "[192]: uncorrelated_random_PDF_l_0.05_KDE_2.pkl, KDE, 0, gaussian\n",
      "[193]: uncorrelated_random_PDF_l_0.05_KDE_20.pkl, KDE, 9, gaussian\n",
      "[194]: uncorrelated_random_PDF_l_0.05_KDE_21.pkl, KDE, 9, gaussian\n",
      "[195]: uncorrelated_random_PDF_l_0.05_KDE_22.pkl, KDE, 9, gaussian\n",
      "[196]: uncorrelated_random_PDF_l_0.05_KDE_23.pkl, KDE, 9, gaussian\n",
      "[197]: uncorrelated_random_PDF_l_0.05_KDE_24.pkl, KDE, 11, gaussian\n",
      "[198]: uncorrelated_random_PDF_l_0.05_KDE_25.pkl, KDE, 11, gaussian\n",
      "[199]: uncorrelated_random_PDF_l_0.05_KDE_26.pkl, KDE, 11, gaussian\n",
      "[200]: uncorrelated_random_PDF_l_0.05_KDE_27.pkl, KDE, 11, gaussian\n",
      "[201]: uncorrelated_random_PDF_l_0.05_KDE_28.pkl, KDE, 13, gaussian\n",
      "[202]: uncorrelated_random_PDF_l_0.05_KDE_29.pkl, KDE, 13, gaussian\n",
      "[203]: uncorrelated_random_PDF_l_0.05_KDE_3.pkl, KDE, 0, gaussian\n",
      "[204]: uncorrelated_random_PDF_l_0.05_KDE_30.pkl, KDE, 13, gaussian\n",
      "[205]: uncorrelated_random_PDF_l_0.05_KDE_31.pkl, KDE, 13, gaussian\n",
      "[206]: uncorrelated_random_PDF_l_0.05_KDE_32.pkl, KDE, 15, gaussian\n",
      "[207]: uncorrelated_random_PDF_l_0.05_KDE_33.pkl, KDE, 15, gaussian\n",
      "[208]: uncorrelated_random_PDF_l_0.05_KDE_34.pkl, KDE, 15, gaussian\n",
      "[209]: uncorrelated_random_PDF_l_0.05_KDE_35.pkl, KDE, 15, gaussian\n",
      "[210]: uncorrelated_random_PDF_l_0.05_KDE_36.pkl, KDE, 17, gaussian\n",
      "[211]: uncorrelated_random_PDF_l_0.05_KDE_37.pkl, KDE, 17, gaussian\n",
      "[212]: uncorrelated_random_PDF_l_0.05_KDE_38.pkl, KDE, 17, gaussian\n",
      "[213]: uncorrelated_random_PDF_l_0.05_KDE_39.pkl, KDE, 17, gaussian\n",
      "[214]: uncorrelated_random_PDF_l_0.05_KDE_4.pkl, KDE, 1, gaussian\n",
      "[215]: uncorrelated_random_PDF_l_0.05_KDE_40.pkl, KDE, 0, epanechnikov\n",
      "[216]: uncorrelated_random_PDF_l_0.05_KDE_41.pkl, KDE, 1, epanechnikov\n",
      "[217]: uncorrelated_random_PDF_l_0.05_KDE_42.pkl, KDE, 3, epanechnikov\n",
      "[218]: uncorrelated_random_PDF_l_0.05_KDE_43.pkl, KDE, 5, epanechnikov\n",
      "[219]: uncorrelated_random_PDF_l_0.05_KDE_44.pkl, KDE, 7, epanechnikov\n",
      "[220]: uncorrelated_random_PDF_l_0.05_KDE_45.pkl, KDE, 9, epanechnikov\n",
      "[221]: uncorrelated_random_PDF_l_0.05_KDE_46.pkl, KDE, 11, epanechnikov\n",
      "[222]: uncorrelated_random_PDF_l_0.05_KDE_47.pkl, KDE, 13, epanechnikov\n",
      "[223]: uncorrelated_random_PDF_l_0.05_KDE_48.pkl, KDE, 15, epanechnikov\n",
      "[224]: uncorrelated_random_PDF_l_0.05_KDE_49.pkl, KDE, 17, epanechnikov\n",
      "[225]: uncorrelated_random_PDF_l_0.05_KDE_5.pkl, KDE, 1, gaussian\n",
      "[226]: uncorrelated_random_PDF_l_0.05_KDE_6.pkl, KDE, 1, gaussian\n",
      "[227]: uncorrelated_random_PDF_l_0.05_KDE_7.pkl, KDE, 1, gaussian\n",
      "[228]: uncorrelated_random_PDF_l_0.05_KDE_8.pkl, KDE, 3, gaussian\n",
      "[229]: uncorrelated_random_PDF_l_0.05_KDE_9.pkl, KDE, 3, gaussian\n",
      "[230]: uncorrelated_random_PDF_l_0.05_histogram_0.pkl, histogram, 0, NA\n",
      "[231]: uncorrelated_random_PDF_l_0.05_histogram_1.pkl, histogram, 1, NA\n",
      "[232]: uncorrelated_random_PDF_l_0.05_histogram_2.pkl, histogram, 3, NA\n",
      "[233]: uncorrelated_random_PDF_l_0.05_histogram_3.pkl, histogram, 5, NA\n",
      "[234]: uncorrelated_random_PDF_l_0.05_histogram_4.pkl, histogram, 7, NA\n",
      "[235]: uncorrelated_random_PDF_l_0.05_histogram_5.pkl, histogram, 9, NA\n",
      "[236]: uncorrelated_random_PDF_l_0.05_histogram_6.pkl, histogram, 11, NA\n",
      "[237]: uncorrelated_random_PDF_l_0.05_histogram_7.pkl, histogram, 13, NA\n",
      "[238]: uncorrelated_random_PDF_l_0.05_histogram_8.pkl, histogram, 15, NA\n",
      "[239]: uncorrelated_random_PDF_l_0.05_histogram_9.pkl, histogram, 17, NA\n",
      "[240]: uncorrelated_random_PDF_l_0.1_13b_0.pkl, 13b, 3, NA\n",
      "[241]: uncorrelated_random_PDF_l_0.1_13b_1.pkl, 13b, 1, NA\n",
      "[242]: uncorrelated_random_PDF_l_0.1_13b_10.pkl, 13b, 3, NA\n",
      "[243]: uncorrelated_random_PDF_l_0.1_13b_11.pkl, 13b, 5, NA\n",
      "[244]: uncorrelated_random_PDF_l_0.1_13b_12.pkl, 13b, 7, NA\n",
      "[245]: uncorrelated_random_PDF_l_0.1_13b_13.pkl, 13b, 9, NA\n",
      "[246]: uncorrelated_random_PDF_l_0.1_13b_14.pkl, 13b, 11, NA\n",
      "[247]: uncorrelated_random_PDF_l_0.1_13b_15.pkl, 13b, 13, NA\n",
      "[248]: uncorrelated_random_PDF_l_0.1_13b_16.pkl, 13b, 15, NA\n",
      "[249]: uncorrelated_random_PDF_l_0.1_13b_17.pkl, 13b, 17, NA\n",
      "[250]: uncorrelated_random_PDF_l_0.1_13b_18.pkl, 13b, 0, NA\n",
      "[251]: uncorrelated_random_PDF_l_0.1_13b_19.pkl, 13b, 0, NA\n",
      "[252]: uncorrelated_random_PDF_l_0.1_13b_2.pkl, 13b, 0, NA\n",
      "[253]: uncorrelated_random_PDF_l_0.1_13b_20.pkl, 13b, 0, NA\n",
      "[254]: uncorrelated_random_PDF_l_0.1_13b_21.pkl, 13b, 0, NA\n",
      "[255]: uncorrelated_random_PDF_l_0.1_13b_22.pkl, 13b, 1, NA\n",
      "[256]: uncorrelated_random_PDF_l_0.1_13b_23.pkl, 13b, 1, NA\n",
      "[257]: uncorrelated_random_PDF_l_0.1_13b_24.pkl, 13b, 1, NA\n",
      "[258]: uncorrelated_random_PDF_l_0.1_13b_25.pkl, 13b, 1, NA\n",
      "[259]: uncorrelated_random_PDF_l_0.1_13b_3.pkl, 13b, 5, NA\n",
      "[260]: uncorrelated_random_PDF_l_0.1_13b_4.pkl, 13b, 0, NA\n",
      "[261]: uncorrelated_random_PDF_l_0.1_13b_5.pkl, 13b, 1, NA\n",
      "[262]: uncorrelated_random_PDF_l_0.1_13b_6.pkl, 13b, 3, NA\n",
      "[263]: uncorrelated_random_PDF_l_0.1_13b_7.pkl, 13b, 5, NA\n",
      "[264]: uncorrelated_random_PDF_l_0.1_13b_8.pkl, 13b, 0, NA\n",
      "[265]: uncorrelated_random_PDF_l_0.1_13b_9.pkl, 13b, 1, NA\n",
      "[266]: uncorrelated_random_PDF_l_0.1_70b_0.pkl, 70b, 3, NA\n",
      "[267]: uncorrelated_random_PDF_l_0.1_70b_1.pkl, 70b, 1, NA\n",
      "[268]: uncorrelated_random_PDF_l_0.1_70b_2.pkl, 70b, 0, NA\n",
      "[269]: uncorrelated_random_PDF_l_0.1_70b_3.pkl, 70b, 5, NA\n",
      "[270]: uncorrelated_random_PDF_l_0.1_70b_4.pkl, 70b, 8, NA\n",
      "[271]: uncorrelated_random_PDF_l_0.1_70b_5.pkl, 70b, 16, NA\n",
      "[272]: uncorrelated_random_PDF_l_0.1_7b_0.pkl, 7b, 3, NA\n",
      "[273]: uncorrelated_random_PDF_l_0.1_7b_1.pkl, 7b, 1, NA\n",
      "[274]: uncorrelated_random_PDF_l_0.1_7b_2.pkl, 7b, 0, NA\n",
      "[275]: uncorrelated_random_PDF_l_0.1_7b_3.pkl, 7b, 5, NA\n",
      "[276]: uncorrelated_random_PDF_l_0.1_7b_4.pkl, 7b, 8, NA\n",
      "[277]: uncorrelated_random_PDF_l_0.1_7b_5.pkl, 7b, 16, NA\n",
      "[278]: uncorrelated_random_PDF_l_0.1_KDE_0.pkl, KDE, 3, epanechnikov\n",
      "[279]: uncorrelated_random_PDF_l_0.1_KDE_1.pkl, KDE, 1, epanechnikov\n",
      "[280]: uncorrelated_random_PDF_l_0.1_KDE_10.pkl, KDE, 1, gaussian\n",
      "[281]: uncorrelated_random_PDF_l_0.1_KDE_11.pkl, KDE, 1, gaussian\n",
      "[282]: uncorrelated_random_PDF_l_0.1_KDE_12.pkl, KDE, 1, gaussian\n",
      "[283]: uncorrelated_random_PDF_l_0.1_KDE_13.pkl, KDE, 3, gaussian\n",
      "[284]: uncorrelated_random_PDF_l_0.1_KDE_14.pkl, KDE, 3, gaussian\n",
      "[285]: uncorrelated_random_PDF_l_0.1_KDE_15.pkl, KDE, 3, gaussian\n",
      "[286]: uncorrelated_random_PDF_l_0.1_KDE_158.pkl, KDE, 8, gaussian\n",
      "[287]: uncorrelated_random_PDF_l_0.1_KDE_16.pkl, KDE, 3, gaussian\n",
      "[288]: uncorrelated_random_PDF_l_0.1_KDE_17.pkl, KDE, 5, gaussian\n",
      "[289]: uncorrelated_random_PDF_l_0.1_KDE_18.pkl, KDE, 5, gaussian\n",
      "[290]: uncorrelated_random_PDF_l_0.1_KDE_19.pkl, KDE, 5, gaussian\n",
      "[291]: uncorrelated_random_PDF_l_0.1_KDE_2.pkl, KDE, 1, gaussian\n",
      "[292]: uncorrelated_random_PDF_l_0.1_KDE_20.pkl, KDE, 5, gaussian\n",
      "[293]: uncorrelated_random_PDF_l_0.1_KDE_21.pkl, KDE, 7, gaussian\n",
      "[294]: uncorrelated_random_PDF_l_0.1_KDE_22.pkl, KDE, 7, gaussian\n",
      "[295]: uncorrelated_random_PDF_l_0.1_KDE_23.pkl, KDE, 7, gaussian\n",
      "[296]: uncorrelated_random_PDF_l_0.1_KDE_24.pkl, KDE, 7, gaussian\n",
      "[297]: uncorrelated_random_PDF_l_0.1_KDE_25.pkl, KDE, 9, gaussian\n",
      "[298]: uncorrelated_random_PDF_l_0.1_KDE_258.pkl, KDE, 16, gaussian\n",
      "[299]: uncorrelated_random_PDF_l_0.1_KDE_26.pkl, KDE, 9, gaussian\n",
      "[300]: uncorrelated_random_PDF_l_0.1_KDE_27.pkl, KDE, 9, gaussian\n",
      "[301]: uncorrelated_random_PDF_l_0.1_KDE_28.pkl, KDE, 9, gaussian\n",
      "[302]: uncorrelated_random_PDF_l_0.1_KDE_29.pkl, KDE, 11, gaussian\n",
      "[303]: uncorrelated_random_PDF_l_0.1_KDE_3.pkl, KDE, 0, epanechnikov\n",
      "[304]: uncorrelated_random_PDF_l_0.1_KDE_30.pkl, KDE, 11, gaussian\n",
      "[305]: uncorrelated_random_PDF_l_0.1_KDE_31.pkl, KDE, 11, gaussian\n",
      "[306]: uncorrelated_random_PDF_l_0.1_KDE_32.pkl, KDE, 11, gaussian\n",
      "[307]: uncorrelated_random_PDF_l_0.1_KDE_33.pkl, KDE, 13, gaussian\n",
      "[308]: uncorrelated_random_PDF_l_0.1_KDE_34.pkl, KDE, 13, gaussian\n",
      "[309]: uncorrelated_random_PDF_l_0.1_KDE_35.pkl, KDE, 13, gaussian\n",
      "[310]: uncorrelated_random_PDF_l_0.1_KDE_36.pkl, KDE, 13, gaussian\n",
      "[311]: uncorrelated_random_PDF_l_0.1_KDE_37.pkl, KDE, 15, gaussian\n",
      "[312]: uncorrelated_random_PDF_l_0.1_KDE_38.pkl, KDE, 15, gaussian\n",
      "[313]: uncorrelated_random_PDF_l_0.1_KDE_39.pkl, KDE, 15, gaussian\n",
      "[314]: uncorrelated_random_PDF_l_0.1_KDE_4.pkl, KDE, 5, epanechnikov\n",
      "[315]: uncorrelated_random_PDF_l_0.1_KDE_40.pkl, KDE, 15, gaussian\n",
      "[316]: uncorrelated_random_PDF_l_0.1_KDE_41.pkl, KDE, 17, gaussian\n",
      "[317]: uncorrelated_random_PDF_l_0.1_KDE_42.pkl, KDE, 17, gaussian\n",
      "[318]: uncorrelated_random_PDF_l_0.1_KDE_43.pkl, KDE, 17, gaussian\n",
      "[319]: uncorrelated_random_PDF_l_0.1_KDE_44.pkl, KDE, 17, gaussian\n",
      "[320]: uncorrelated_random_PDF_l_0.1_KDE_45.pkl, KDE, 0, epanechnikov\n",
      "[321]: uncorrelated_random_PDF_l_0.1_KDE_46.pkl, KDE, 1, epanechnikov\n",
      "[322]: uncorrelated_random_PDF_l_0.1_KDE_47.pkl, KDE, 3, epanechnikov\n",
      "[323]: uncorrelated_random_PDF_l_0.1_KDE_48.pkl, KDE, 5, epanechnikov\n",
      "[324]: uncorrelated_random_PDF_l_0.1_KDE_49.pkl, KDE, 7, epanechnikov\n",
      "[325]: uncorrelated_random_PDF_l_0.1_KDE_5.pkl, KDE, 0, gaussian\n",
      "[326]: uncorrelated_random_PDF_l_0.1_KDE_50.pkl, KDE, 9, epanechnikov\n",
      "[327]: uncorrelated_random_PDF_l_0.1_KDE_51.pkl, KDE, 11, epanechnikov\n",
      "[328]: uncorrelated_random_PDF_l_0.1_KDE_52.pkl, KDE, 13, epanechnikov\n",
      "[329]: uncorrelated_random_PDF_l_0.1_KDE_53.pkl, KDE, 15, epanechnikov\n",
      "[330]: uncorrelated_random_PDF_l_0.1_KDE_54.pkl, KDE, 17, epanechnikov\n",
      "[331]: uncorrelated_random_PDF_l_0.1_KDE_55.pkl, KDE, 8, gaussian\n",
      "[332]: uncorrelated_random_PDF_l_0.1_KDE_56.pkl, KDE, 16, gaussian\n",
      "[333]: uncorrelated_random_PDF_l_0.1_KDE_57.pkl, KDE, 8, gaussian\n",
      "[334]: uncorrelated_random_PDF_l_0.1_KDE_58.pkl, KDE, 16, gaussian\n",
      "[335]: uncorrelated_random_PDF_l_0.1_KDE_6.pkl, KDE, 0, gaussian\n",
      "[336]: uncorrelated_random_PDF_l_0.1_KDE_7.pkl, KDE, 0, gaussian\n",
      "[337]: uncorrelated_random_PDF_l_0.1_KDE_8.pkl, KDE, 0, gaussian\n",
      "[338]: uncorrelated_random_PDF_l_0.1_KDE_9.pkl, KDE, 1, gaussian\n",
      "[339]: uncorrelated_random_PDF_l_0.1_histogram_0.pkl, histogram, 3, NA\n",
      "[340]: uncorrelated_random_PDF_l_0.1_histogram_1.pkl, histogram, 1, NA\n",
      "[341]: uncorrelated_random_PDF_l_0.1_histogram_10.pkl, histogram, 11, NA\n",
      "[342]: uncorrelated_random_PDF_l_0.1_histogram_11.pkl, histogram, 13, NA\n",
      "[343]: uncorrelated_random_PDF_l_0.1_histogram_113.pkl, histogram, 8, NA\n",
      "[344]: uncorrelated_random_PDF_l_0.1_histogram_12.pkl, histogram, 15, NA\n",
      "[345]: uncorrelated_random_PDF_l_0.1_histogram_13.pkl, histogram, 17, NA\n",
      "[346]: uncorrelated_random_PDF_l_0.1_histogram_2.pkl, histogram, 0, NA\n",
      "[347]: uncorrelated_random_PDF_l_0.1_histogram_213.pkl, histogram, 16, NA\n",
      "[348]: uncorrelated_random_PDF_l_0.1_histogram_3.pkl, histogram, 5, NA\n",
      "[349]: uncorrelated_random_PDF_l_0.1_histogram_4.pkl, histogram, 0, NA\n",
      "[350]: uncorrelated_random_PDF_l_0.1_histogram_5.pkl, histogram, 1, NA\n",
      "[351]: uncorrelated_random_PDF_l_0.1_histogram_6.pkl, histogram, 3, NA\n",
      "[352]: uncorrelated_random_PDF_l_0.1_histogram_7.pkl, histogram, 5, NA\n",
      "[353]: uncorrelated_random_PDF_l_0.1_histogram_8.pkl, histogram, 7, NA\n",
      "[354]: uncorrelated_random_PDF_l_0.1_histogram_9.pkl, histogram, 9, NA\n",
      "[355]: uncorrelated_random_PDF_l_0.2_13b_0.pkl, 13b, 0, NA\n",
      "[356]: uncorrelated_random_PDF_l_0.2_13b_1.pkl, 13b, 1, NA\n",
      "[357]: uncorrelated_random_PDF_l_0.2_13b_2.pkl, 13b, 3, NA\n",
      "[358]: uncorrelated_random_PDF_l_0.2_13b_3.pkl, 13b, 5, NA\n",
      "[359]: uncorrelated_random_PDF_l_0.2_13b_4.pkl, 13b, 7, NA\n",
      "[360]: uncorrelated_random_PDF_l_0.2_13b_5.pkl, 13b, 9, NA\n",
      "[361]: uncorrelated_random_PDF_l_0.2_13b_6.pkl, 13b, 11, NA\n",
      "[362]: uncorrelated_random_PDF_l_0.2_13b_7.pkl, 13b, 13, NA\n",
      "[363]: uncorrelated_random_PDF_l_0.2_13b_8.pkl, 13b, 15, NA\n",
      "[364]: uncorrelated_random_PDF_l_0.2_13b_9.pkl, 13b, 17, NA\n",
      "[365]: uncorrelated_random_PDF_l_0.2_KDE_0.pkl, KDE, 0, gaussian\n",
      "[366]: uncorrelated_random_PDF_l_0.2_KDE_1.pkl, KDE, 0, gaussian\n",
      "[367]: uncorrelated_random_PDF_l_0.2_KDE_10.pkl, KDE, 3, gaussian\n",
      "[368]: uncorrelated_random_PDF_l_0.2_KDE_11.pkl, KDE, 3, gaussian\n",
      "[369]: uncorrelated_random_PDF_l_0.2_KDE_12.pkl, KDE, 5, gaussian\n",
      "[370]: uncorrelated_random_PDF_l_0.2_KDE_13.pkl, KDE, 5, gaussian\n",
      "[371]: uncorrelated_random_PDF_l_0.2_KDE_14.pkl, KDE, 5, gaussian\n",
      "[372]: uncorrelated_random_PDF_l_0.2_KDE_15.pkl, KDE, 5, gaussian\n",
      "[373]: uncorrelated_random_PDF_l_0.2_KDE_16.pkl, KDE, 7, gaussian\n",
      "[374]: uncorrelated_random_PDF_l_0.2_KDE_17.pkl, KDE, 7, gaussian\n",
      "[375]: uncorrelated_random_PDF_l_0.2_KDE_18.pkl, KDE, 7, gaussian\n",
      "[376]: uncorrelated_random_PDF_l_0.2_KDE_19.pkl, KDE, 7, gaussian\n",
      "[377]: uncorrelated_random_PDF_l_0.2_KDE_2.pkl, KDE, 0, gaussian\n",
      "[378]: uncorrelated_random_PDF_l_0.2_KDE_20.pkl, KDE, 9, gaussian\n",
      "[379]: uncorrelated_random_PDF_l_0.2_KDE_21.pkl, KDE, 9, gaussian\n",
      "[380]: uncorrelated_random_PDF_l_0.2_KDE_22.pkl, KDE, 9, gaussian\n",
      "[381]: uncorrelated_random_PDF_l_0.2_KDE_23.pkl, KDE, 9, gaussian\n",
      "[382]: uncorrelated_random_PDF_l_0.2_KDE_24.pkl, KDE, 11, gaussian\n",
      "[383]: uncorrelated_random_PDF_l_0.2_KDE_25.pkl, KDE, 11, gaussian\n",
      "[384]: uncorrelated_random_PDF_l_0.2_KDE_26.pkl, KDE, 11, gaussian\n",
      "[385]: uncorrelated_random_PDF_l_0.2_KDE_27.pkl, KDE, 11, gaussian\n",
      "[386]: uncorrelated_random_PDF_l_0.2_KDE_28.pkl, KDE, 13, gaussian\n",
      "[387]: uncorrelated_random_PDF_l_0.2_KDE_29.pkl, KDE, 13, gaussian\n",
      "[388]: uncorrelated_random_PDF_l_0.2_KDE_3.pkl, KDE, 0, gaussian\n",
      "[389]: uncorrelated_random_PDF_l_0.2_KDE_30.pkl, KDE, 13, gaussian\n",
      "[390]: uncorrelated_random_PDF_l_0.2_KDE_31.pkl, KDE, 13, gaussian\n",
      "[391]: uncorrelated_random_PDF_l_0.2_KDE_32.pkl, KDE, 15, gaussian\n",
      "[392]: uncorrelated_random_PDF_l_0.2_KDE_33.pkl, KDE, 15, gaussian\n",
      "[393]: uncorrelated_random_PDF_l_0.2_KDE_34.pkl, KDE, 15, gaussian\n",
      "[394]: uncorrelated_random_PDF_l_0.2_KDE_35.pkl, KDE, 15, gaussian\n",
      "[395]: uncorrelated_random_PDF_l_0.2_KDE_36.pkl, KDE, 17, gaussian\n",
      "[396]: uncorrelated_random_PDF_l_0.2_KDE_37.pkl, KDE, 17, gaussian\n",
      "[397]: uncorrelated_random_PDF_l_0.2_KDE_38.pkl, KDE, 17, gaussian\n",
      "[398]: uncorrelated_random_PDF_l_0.2_KDE_39.pkl, KDE, 17, gaussian\n",
      "[399]: uncorrelated_random_PDF_l_0.2_KDE_4.pkl, KDE, 1, gaussian\n",
      "[400]: uncorrelated_random_PDF_l_0.2_KDE_40.pkl, KDE, 0, epanechnikov\n",
      "[401]: uncorrelated_random_PDF_l_0.2_KDE_41.pkl, KDE, 1, epanechnikov\n",
      "[402]: uncorrelated_random_PDF_l_0.2_KDE_42.pkl, KDE, 3, epanechnikov\n",
      "[403]: uncorrelated_random_PDF_l_0.2_KDE_43.pkl, KDE, 5, epanechnikov\n",
      "[404]: uncorrelated_random_PDF_l_0.2_KDE_44.pkl, KDE, 7, epanechnikov\n",
      "[405]: uncorrelated_random_PDF_l_0.2_KDE_45.pkl, KDE, 9, epanechnikov\n",
      "[406]: uncorrelated_random_PDF_l_0.2_KDE_46.pkl, KDE, 11, epanechnikov\n",
      "[407]: uncorrelated_random_PDF_l_0.2_KDE_47.pkl, KDE, 13, epanechnikov\n",
      "[408]: uncorrelated_random_PDF_l_0.2_KDE_48.pkl, KDE, 15, epanechnikov\n",
      "[409]: uncorrelated_random_PDF_l_0.2_KDE_49.pkl, KDE, 17, epanechnikov\n",
      "[410]: uncorrelated_random_PDF_l_0.2_KDE_5.pkl, KDE, 1, gaussian\n",
      "[411]: uncorrelated_random_PDF_l_0.2_KDE_6.pkl, KDE, 1, gaussian\n",
      "[412]: uncorrelated_random_PDF_l_0.2_KDE_7.pkl, KDE, 1, gaussian\n",
      "[413]: uncorrelated_random_PDF_l_0.2_KDE_8.pkl, KDE, 3, gaussian\n",
      "[414]: uncorrelated_random_PDF_l_0.2_KDE_9.pkl, KDE, 3, gaussian\n",
      "[415]: uncorrelated_random_PDF_l_0.2_histogram_0.pkl, histogram, 0, NA\n",
      "[416]: uncorrelated_random_PDF_l_0.2_histogram_1.pkl, histogram, 1, NA\n",
      "[417]: uncorrelated_random_PDF_l_0.2_histogram_2.pkl, histogram, 3, NA\n",
      "[418]: uncorrelated_random_PDF_l_0.2_histogram_3.pkl, histogram, 5, NA\n",
      "[419]: uncorrelated_random_PDF_l_0.2_histogram_4.pkl, histogram, 7, NA\n",
      "[420]: uncorrelated_random_PDF_l_0.2_histogram_5.pkl, histogram, 9, NA\n",
      "[421]: uncorrelated_random_PDF_l_0.2_histogram_6.pkl, histogram, 11, NA\n",
      "[422]: uncorrelated_random_PDF_l_0.2_histogram_7.pkl, histogram, 13, NA\n",
      "[423]: uncorrelated_random_PDF_l_0.2_histogram_8.pkl, histogram, 15, NA\n",
      "[424]: uncorrelated_random_PDF_l_0.2_histogram_9.pkl, histogram, 17, NA\n",
      "[425]: uncorrelated_random_PDF_l_0.3_13b_0.pkl, 13b, 0, NA\n",
      "[426]: uncorrelated_random_PDF_l_0.3_13b_1.pkl, 13b, 1, NA\n",
      "[427]: uncorrelated_random_PDF_l_0.3_13b_2.pkl, 13b, 3, NA\n",
      "[428]: uncorrelated_random_PDF_l_0.3_13b_3.pkl, 13b, 5, NA\n",
      "[429]: uncorrelated_random_PDF_l_0.3_13b_4.pkl, 13b, 7, NA\n",
      "[430]: uncorrelated_random_PDF_l_0.3_13b_5.pkl, 13b, 9, NA\n",
      "[431]: uncorrelated_random_PDF_l_0.3_13b_6.pkl, 13b, 11, NA\n",
      "[432]: uncorrelated_random_PDF_l_0.3_13b_7.pkl, 13b, 13, NA\n",
      "[433]: uncorrelated_random_PDF_l_0.3_13b_8.pkl, 13b, 15, NA\n",
      "[434]: uncorrelated_random_PDF_l_0.3_13b_9.pkl, 13b, 17, NA\n",
      "[435]: uncorrelated_random_PDF_l_0.3_KDE_0.pkl, KDE, 0, gaussian\n",
      "[436]: uncorrelated_random_PDF_l_0.3_KDE_1.pkl, KDE, 0, gaussian\n",
      "[437]: uncorrelated_random_PDF_l_0.3_KDE_10.pkl, KDE, 3, gaussian\n",
      "[438]: uncorrelated_random_PDF_l_0.3_KDE_11.pkl, KDE, 3, gaussian\n",
      "[439]: uncorrelated_random_PDF_l_0.3_KDE_12.pkl, KDE, 5, gaussian\n",
      "[440]: uncorrelated_random_PDF_l_0.3_KDE_13.pkl, KDE, 5, gaussian\n",
      "[441]: uncorrelated_random_PDF_l_0.3_KDE_14.pkl, KDE, 5, gaussian\n",
      "[442]: uncorrelated_random_PDF_l_0.3_KDE_15.pkl, KDE, 5, gaussian\n",
      "[443]: uncorrelated_random_PDF_l_0.3_KDE_16.pkl, KDE, 7, gaussian\n",
      "[444]: uncorrelated_random_PDF_l_0.3_KDE_17.pkl, KDE, 7, gaussian\n",
      "[445]: uncorrelated_random_PDF_l_0.3_KDE_18.pkl, KDE, 7, gaussian\n",
      "[446]: uncorrelated_random_PDF_l_0.3_KDE_19.pkl, KDE, 7, gaussian\n",
      "[447]: uncorrelated_random_PDF_l_0.3_KDE_2.pkl, KDE, 0, gaussian\n",
      "[448]: uncorrelated_random_PDF_l_0.3_KDE_20.pkl, KDE, 9, gaussian\n",
      "[449]: uncorrelated_random_PDF_l_0.3_KDE_21.pkl, KDE, 9, gaussian\n",
      "[450]: uncorrelated_random_PDF_l_0.3_KDE_22.pkl, KDE, 9, gaussian\n",
      "[451]: uncorrelated_random_PDF_l_0.3_KDE_23.pkl, KDE, 9, gaussian\n",
      "[452]: uncorrelated_random_PDF_l_0.3_KDE_24.pkl, KDE, 11, gaussian\n",
      "[453]: uncorrelated_random_PDF_l_0.3_KDE_25.pkl, KDE, 11, gaussian\n",
      "[454]: uncorrelated_random_PDF_l_0.3_KDE_26.pkl, KDE, 11, gaussian\n",
      "[455]: uncorrelated_random_PDF_l_0.3_KDE_27.pkl, KDE, 11, gaussian\n",
      "[456]: uncorrelated_random_PDF_l_0.3_KDE_28.pkl, KDE, 13, gaussian\n",
      "[457]: uncorrelated_random_PDF_l_0.3_KDE_29.pkl, KDE, 13, gaussian\n",
      "[458]: uncorrelated_random_PDF_l_0.3_KDE_3.pkl, KDE, 0, gaussian\n",
      "[459]: uncorrelated_random_PDF_l_0.3_KDE_30.pkl, KDE, 13, gaussian\n",
      "[460]: uncorrelated_random_PDF_l_0.3_KDE_31.pkl, KDE, 13, gaussian\n",
      "[461]: uncorrelated_random_PDF_l_0.3_KDE_32.pkl, KDE, 15, gaussian\n",
      "[462]: uncorrelated_random_PDF_l_0.3_KDE_33.pkl, KDE, 15, gaussian\n",
      "[463]: uncorrelated_random_PDF_l_0.3_KDE_34.pkl, KDE, 15, gaussian\n",
      "[464]: uncorrelated_random_PDF_l_0.3_KDE_35.pkl, KDE, 15, gaussian\n",
      "[465]: uncorrelated_random_PDF_l_0.3_KDE_36.pkl, KDE, 17, gaussian\n",
      "[466]: uncorrelated_random_PDF_l_0.3_KDE_37.pkl, KDE, 17, gaussian\n",
      "[467]: uncorrelated_random_PDF_l_0.3_KDE_38.pkl, KDE, 17, gaussian\n",
      "[468]: uncorrelated_random_PDF_l_0.3_KDE_39.pkl, KDE, 17, gaussian\n",
      "[469]: uncorrelated_random_PDF_l_0.3_KDE_4.pkl, KDE, 1, gaussian\n",
      "[470]: uncorrelated_random_PDF_l_0.3_KDE_40.pkl, KDE, 0, epanechnikov\n",
      "[471]: uncorrelated_random_PDF_l_0.3_KDE_41.pkl, KDE, 1, epanechnikov\n",
      "[472]: uncorrelated_random_PDF_l_0.3_KDE_42.pkl, KDE, 3, epanechnikov\n",
      "[473]: uncorrelated_random_PDF_l_0.3_KDE_43.pkl, KDE, 5, epanechnikov\n",
      "[474]: uncorrelated_random_PDF_l_0.3_KDE_44.pkl, KDE, 7, epanechnikov\n",
      "[475]: uncorrelated_random_PDF_l_0.3_KDE_45.pkl, KDE, 9, epanechnikov\n",
      "[476]: uncorrelated_random_PDF_l_0.3_KDE_46.pkl, KDE, 11, epanechnikov\n",
      "[477]: uncorrelated_random_PDF_l_0.3_KDE_47.pkl, KDE, 13, epanechnikov\n",
      "[478]: uncorrelated_random_PDF_l_0.3_KDE_48.pkl, KDE, 15, epanechnikov\n",
      "[479]: uncorrelated_random_PDF_l_0.3_KDE_49.pkl, KDE, 17, epanechnikov\n",
      "[480]: uncorrelated_random_PDF_l_0.3_KDE_5.pkl, KDE, 1, gaussian\n",
      "[481]: uncorrelated_random_PDF_l_0.3_KDE_6.pkl, KDE, 1, gaussian\n",
      "[482]: uncorrelated_random_PDF_l_0.3_KDE_7.pkl, KDE, 1, gaussian\n",
      "[483]: uncorrelated_random_PDF_l_0.3_KDE_8.pkl, KDE, 3, gaussian\n",
      "[484]: uncorrelated_random_PDF_l_0.3_KDE_9.pkl, KDE, 3, gaussian\n",
      "[485]: uncorrelated_random_PDF_l_0.4_70b_0.pkl, 70b, 6, NA\n",
      "[486]: uncorrelated_random_PDF_l_0.4_70b_1.pkl, 70b, 9, NA\n",
      "[487]: uncorrelated_random_PDF_l_0.4_KDE_0.pkl, KDE, 6, epanechnikov\n",
      "[488]: uncorrelated_random_PDF_l_0.4_KDE_1.pkl, KDE, 9, epanechnikov\n",
      "[489]: uncorrelated_random_PDF_l_0.4_histogram_0.pkl, histogram, 6, NA\n",
      "[490]: uncorrelated_random_PDF_l_0.4_histogram_1.pkl, histogram, 9, NA\n",
      "[491]: uncorrelated_random_PDF_l_0.5_13b_0.pkl, 13b, 0, NA\n",
      "[492]: uncorrelated_random_PDF_l_0.5_13b_1.pkl, 13b, 1, NA\n",
      "[493]: uncorrelated_random_PDF_l_0.5_13b_10.pkl, 13b, 8, NA\n",
      "[494]: uncorrelated_random_PDF_l_0.5_13b_11.pkl, 13b, 16, NA\n",
      "[495]: uncorrelated_random_PDF_l_0.5_13b_2.pkl, 13b, 3, NA\n",
      "[496]: uncorrelated_random_PDF_l_0.5_13b_3.pkl, 13b, 5, NA\n",
      "[497]: uncorrelated_random_PDF_l_0.5_13b_4.pkl, 13b, 7, NA\n",
      "[498]: uncorrelated_random_PDF_l_0.5_13b_5.pkl, 13b, 9, NA\n",
      "[499]: uncorrelated_random_PDF_l_0.5_13b_6.pkl, 13b, 11, NA\n",
      "[500]: uncorrelated_random_PDF_l_0.5_13b_7.pkl, 13b, 13, NA\n",
      "[501]: uncorrelated_random_PDF_l_0.5_13b_8.pkl, 13b, 15, NA\n",
      "[502]: uncorrelated_random_PDF_l_0.5_13b_9.pkl, 13b, 17, NA\n",
      "[503]: uncorrelated_random_PDF_l_0.5_70b_0.pkl, 70b, 8, NA\n",
      "[504]: uncorrelated_random_PDF_l_0.5_70b_1.pkl, 70b, 16, NA\n",
      "[505]: uncorrelated_random_PDF_l_0.5_7b_0.pkl, 7b, 8, NA\n",
      "[506]: uncorrelated_random_PDF_l_0.5_7b_1.pkl, 7b, 16, NA\n",
      "[507]: uncorrelated_random_PDF_l_0.5_KDE_0.pkl, KDE, 0, gaussian\n",
      "[508]: uncorrelated_random_PDF_l_0.5_KDE_1.pkl, KDE, 0, gaussian\n",
      "[509]: uncorrelated_random_PDF_l_0.5_KDE_10.pkl, KDE, 3, gaussian\n",
      "[510]: uncorrelated_random_PDF_l_0.5_KDE_11.pkl, KDE, 3, gaussian\n",
      "[511]: uncorrelated_random_PDF_l_0.5_KDE_12.pkl, KDE, 5, gaussian\n",
      "[512]: uncorrelated_random_PDF_l_0.5_KDE_13.pkl, KDE, 5, gaussian\n",
      "[513]: uncorrelated_random_PDF_l_0.5_KDE_14.pkl, KDE, 5, gaussian\n",
      "[514]: uncorrelated_random_PDF_l_0.5_KDE_15.pkl, KDE, 5, gaussian\n",
      "[515]: uncorrelated_random_PDF_l_0.5_KDE_153.pkl, KDE, 8, gaussian\n",
      "[516]: uncorrelated_random_PDF_l_0.5_KDE_16.pkl, KDE, 7, gaussian\n",
      "[517]: uncorrelated_random_PDF_l_0.5_KDE_17.pkl, KDE, 7, gaussian\n",
      "[518]: uncorrelated_random_PDF_l_0.5_KDE_18.pkl, KDE, 7, gaussian\n",
      "[519]: uncorrelated_random_PDF_l_0.5_KDE_19.pkl, KDE, 7, gaussian\n",
      "[520]: uncorrelated_random_PDF_l_0.5_KDE_2.pkl, KDE, 0, gaussian\n",
      "[521]: uncorrelated_random_PDF_l_0.5_KDE_20.pkl, KDE, 9, gaussian\n",
      "[522]: uncorrelated_random_PDF_l_0.5_KDE_21.pkl, KDE, 9, gaussian\n",
      "[523]: uncorrelated_random_PDF_l_0.5_KDE_22.pkl, KDE, 9, gaussian\n",
      "[524]: uncorrelated_random_PDF_l_0.5_KDE_23.pkl, KDE, 9, gaussian\n",
      "[525]: uncorrelated_random_PDF_l_0.5_KDE_24.pkl, KDE, 11, gaussian\n",
      "[526]: uncorrelated_random_PDF_l_0.5_KDE_25.pkl, KDE, 11, gaussian\n",
      "[527]: uncorrelated_random_PDF_l_0.5_KDE_253.pkl, KDE, 16, gaussian\n",
      "[528]: uncorrelated_random_PDF_l_0.5_KDE_26.pkl, KDE, 11, gaussian\n",
      "[529]: uncorrelated_random_PDF_l_0.5_KDE_27.pkl, KDE, 11, gaussian\n",
      "[530]: uncorrelated_random_PDF_l_0.5_KDE_28.pkl, KDE, 13, gaussian\n",
      "[531]: uncorrelated_random_PDF_l_0.5_KDE_29.pkl, KDE, 13, gaussian\n",
      "[532]: uncorrelated_random_PDF_l_0.5_KDE_3.pkl, KDE, 0, gaussian\n",
      "[533]: uncorrelated_random_PDF_l_0.5_KDE_30.pkl, KDE, 13, gaussian\n",
      "[534]: uncorrelated_random_PDF_l_0.5_KDE_31.pkl, KDE, 13, gaussian\n",
      "[535]: uncorrelated_random_PDF_l_0.5_KDE_32.pkl, KDE, 15, gaussian\n",
      "[536]: uncorrelated_random_PDF_l_0.5_KDE_33.pkl, KDE, 15, gaussian\n",
      "[537]: uncorrelated_random_PDF_l_0.5_KDE_34.pkl, KDE, 15, gaussian\n",
      "[538]: uncorrelated_random_PDF_l_0.5_KDE_35.pkl, KDE, 15, gaussian\n",
      "[539]: uncorrelated_random_PDF_l_0.5_KDE_36.pkl, KDE, 17, gaussian\n",
      "[540]: uncorrelated_random_PDF_l_0.5_KDE_37.pkl, KDE, 17, gaussian\n",
      "[541]: uncorrelated_random_PDF_l_0.5_KDE_38.pkl, KDE, 17, gaussian\n",
      "[542]: uncorrelated_random_PDF_l_0.5_KDE_39.pkl, KDE, 17, gaussian\n",
      "[543]: uncorrelated_random_PDF_l_0.5_KDE_4.pkl, KDE, 1, gaussian\n",
      "[544]: uncorrelated_random_PDF_l_0.5_KDE_40.pkl, KDE, 0, epanechnikov\n",
      "[545]: uncorrelated_random_PDF_l_0.5_KDE_41.pkl, KDE, 1, epanechnikov\n",
      "[546]: uncorrelated_random_PDF_l_0.5_KDE_42.pkl, KDE, 3, epanechnikov\n",
      "[547]: uncorrelated_random_PDF_l_0.5_KDE_43.pkl, KDE, 5, epanechnikov\n",
      "[548]: uncorrelated_random_PDF_l_0.5_KDE_44.pkl, KDE, 7, epanechnikov\n",
      "[549]: uncorrelated_random_PDF_l_0.5_KDE_45.pkl, KDE, 9, epanechnikov\n",
      "[550]: uncorrelated_random_PDF_l_0.5_KDE_46.pkl, KDE, 11, epanechnikov\n",
      "[551]: uncorrelated_random_PDF_l_0.5_KDE_47.pkl, KDE, 13, epanechnikov\n",
      "[552]: uncorrelated_random_PDF_l_0.5_KDE_48.pkl, KDE, 15, epanechnikov\n",
      "[553]: uncorrelated_random_PDF_l_0.5_KDE_49.pkl, KDE, 17, epanechnikov\n",
      "[554]: uncorrelated_random_PDF_l_0.5_KDE_5.pkl, KDE, 1, gaussian\n",
      "[555]: uncorrelated_random_PDF_l_0.5_KDE_50.pkl, KDE, 8, gaussian\n",
      "[556]: uncorrelated_random_PDF_l_0.5_KDE_51.pkl, KDE, 16, gaussian\n",
      "[557]: uncorrelated_random_PDF_l_0.5_KDE_52.pkl, KDE, 8, gaussian\n",
      "[558]: uncorrelated_random_PDF_l_0.5_KDE_53.pkl, KDE, 16, gaussian\n",
      "[559]: uncorrelated_random_PDF_l_0.5_KDE_6.pkl, KDE, 1, gaussian\n",
      "[560]: uncorrelated_random_PDF_l_0.5_KDE_7.pkl, KDE, 1, gaussian\n",
      "[561]: uncorrelated_random_PDF_l_0.5_KDE_8.pkl, KDE, 3, gaussian\n",
      "[562]: uncorrelated_random_PDF_l_0.5_KDE_9.pkl, KDE, 3, gaussian\n",
      "[563]: uncorrelated_random_PDF_l_0.5_histogram_0.pkl, histogram, 0, NA\n",
      "[564]: uncorrelated_random_PDF_l_0.5_histogram_1.pkl, histogram, 1, NA\n",
      "[565]: uncorrelated_random_PDF_l_0.5_histogram_10.pkl, histogram, 0, NA\n",
      "[566]: uncorrelated_random_PDF_l_0.5_histogram_11.pkl, histogram, 1, NA\n",
      "[567]: uncorrelated_random_PDF_l_0.5_histogram_119.pkl, histogram, 8, NA\n",
      "[568]: uncorrelated_random_PDF_l_0.5_histogram_12.pkl, histogram, 3, NA\n",
      "[569]: uncorrelated_random_PDF_l_0.5_histogram_13.pkl, histogram, 5, NA\n",
      "[570]: uncorrelated_random_PDF_l_0.5_histogram_14.pkl, histogram, 7, NA\n",
      "[571]: uncorrelated_random_PDF_l_0.5_histogram_15.pkl, histogram, 9, NA\n",
      "[572]: uncorrelated_random_PDF_l_0.5_histogram_16.pkl, histogram, 11, NA\n",
      "[573]: uncorrelated_random_PDF_l_0.5_histogram_17.pkl, histogram, 13, NA\n",
      "[574]: uncorrelated_random_PDF_l_0.5_histogram_18.pkl, histogram, 15, NA\n",
      "[575]: uncorrelated_random_PDF_l_0.5_histogram_19.pkl, histogram, 17, NA\n",
      "[576]: uncorrelated_random_PDF_l_0.5_histogram_2.pkl, histogram, 3, NA\n",
      "[577]: uncorrelated_random_PDF_l_0.5_histogram_219.pkl, histogram, 16, NA\n",
      "[578]: uncorrelated_random_PDF_l_0.5_histogram_3.pkl, histogram, 5, NA\n",
      "[579]: uncorrelated_random_PDF_l_0.5_histogram_4.pkl, histogram, 7, NA\n",
      "[580]: uncorrelated_random_PDF_l_0.5_histogram_5.pkl, histogram, 9, NA\n",
      "[581]: uncorrelated_random_PDF_l_0.5_histogram_6.pkl, histogram, 11, NA\n",
      "[582]: uncorrelated_random_PDF_l_0.5_histogram_7.pkl, histogram, 13, NA\n",
      "[583]: uncorrelated_random_PDF_l_0.5_histogram_8.pkl, histogram, 15, NA\n",
      "[584]: uncorrelated_random_PDF_l_0.5_histogram_9.pkl, histogram, 17, NA\n",
      "[585]: uncorrelated_uniform_centered_sigma_0.1001_99.pkl, KDE, 2, gaussian\n",
      "[586]: uncorrelated_uniform_centered_sigma_0.1_0.pkl, 13b, 2, \n",
      "[587]: uncorrelated_uniform_centered_sigma_0.1_1.pkl, 13b, 3, \n",
      "[588]: uncorrelated_uniform_centered_sigma_0.1_10.pkl, KDE, 2, gaussian\n",
      "[589]: uncorrelated_uniform_centered_sigma_0.1_11.pkl, KDE, 2, gaussian\n",
      "[590]: uncorrelated_uniform_centered_sigma_0.1_111.pkl, KDE, 2, gaussian\n",
      "[591]: uncorrelated_uniform_centered_sigma_0.1_2.pkl, 7b, 2, \n",
      "[592]: uncorrelated_uniform_centered_sigma_0.1_211.pkl, KDE, 2, gaussian\n",
      "[593]: uncorrelated_uniform_centered_sigma_0.1_3.pkl, 7b, 3, \n",
      "[594]: uncorrelated_uniform_centered_sigma_0.1_311.pkl, KDE, 2, gaussian\n",
      "[595]: uncorrelated_uniform_centered_sigma_0.1_4.pkl, 70b, 2, \n",
      "[596]: uncorrelated_uniform_centered_sigma_0.1_411.pkl, KDE, 2, gaussian\n",
      "[597]: uncorrelated_uniform_centered_sigma_0.1_5.pkl, 70b, 3, \n",
      "[598]: uncorrelated_uniform_centered_sigma_0.1_511.pkl, KDE, 2, gaussian\n",
      "[599]: uncorrelated_uniform_centered_sigma_0.1_6.pkl, histogram, 2, NA\n",
      "[600]: uncorrelated_uniform_centered_sigma_0.1_611.pkl, KDE, 2, gaussian\n",
      "[601]: uncorrelated_uniform_centered_sigma_0.1_7.pkl, KDE, 2, gaussian\n",
      "[602]: uncorrelated_uniform_centered_sigma_0.1_711.pkl, KDE, 2, gaussian\n",
      "[603]: uncorrelated_uniform_centered_sigma_0.1_8.pkl, KDE, 2, gaussian\n",
      "[604]: uncorrelated_uniform_centered_sigma_0.1_811.pkl, KDE, 2, gaussian\n",
      "[605]: uncorrelated_uniform_centered_sigma_0.1_9.pkl, KDE, 2, gaussian\n",
      "[606]: uncorrelated_uniform_centered_sigma_0.1_911.pkl, KDE, 2, gaussian\n",
      "[607]: uncorrelated_uniform_centered_sigma_0.3_0.pkl, 13b, 2, \n",
      "[608]: uncorrelated_uniform_centered_sigma_0.3_1.pkl, 13b, 3, \n",
      "[609]: uncorrelated_uniform_centered_sigma_0.3_107.pkl, KDE, 2, gaussian\n",
      "[610]: uncorrelated_uniform_centered_sigma_0.3_2.pkl, 7b, 2, \n",
      "[611]: uncorrelated_uniform_centered_sigma_0.3_3.pkl, 7b, 3, \n",
      "[612]: uncorrelated_uniform_centered_sigma_0.3_4.pkl, 70b, 2, \n",
      "[613]: uncorrelated_uniform_centered_sigma_0.3_5.pkl, 70b, 3, \n",
      "[614]: uncorrelated_uniform_centered_sigma_0.3_6.pkl, histogram, 2, NA\n",
      "[615]: uncorrelated_uniform_centered_sigma_0.3_7.pkl, KDE, 2, gaussian\n",
      "[616]: uncorrelated_uniform_centered_sigma_0.5001_99.pkl, KDE, 2, gaussian\n",
      "[617]: uncorrelated_uniform_centered_sigma_0.5_0.pkl, 13b, 2, \n",
      "[618]: uncorrelated_uniform_centered_sigma_0.5_1.pkl, 13b, 3, \n",
      "[619]: uncorrelated_uniform_centered_sigma_0.5_107.pkl, KDE, 2, gaussian\n",
      "[620]: uncorrelated_uniform_centered_sigma_0.5_2.pkl, 7b, 2, \n",
      "[621]: uncorrelated_uniform_centered_sigma_0.5_3.pkl, 7b, 3, \n",
      "[622]: uncorrelated_uniform_centered_sigma_0.5_4.pkl, 70b, 2, \n",
      "[623]: uncorrelated_uniform_centered_sigma_0.5_5.pkl, 70b, 3, \n",
      "[624]: uncorrelated_uniform_centered_sigma_0.5_6.pkl, histogram, 2, NA\n",
      "[625]: uncorrelated_uniform_centered_sigma_0.5_7.pkl, KDE, 2, gaussian\n",
      "[626]: uncorrelated_uniform_centered_sigma_0.8_0.pkl, 13b, 2, \n",
      "[627]: uncorrelated_uniform_centered_sigma_0.8_1.pkl, 13b, 3, \n",
      "[628]: uncorrelated_uniform_centered_sigma_0.8_107.pkl, KDE, 2, gaussian\n",
      "[629]: uncorrelated_uniform_centered_sigma_0.8_2.pkl, 7b, 2, \n",
      "[630]: uncorrelated_uniform_centered_sigma_0.8_3.pkl, 7b, 3, \n",
      "[631]: uncorrelated_uniform_centered_sigma_0.8_4.pkl, 70b, 2, \n",
      "[632]: uncorrelated_uniform_centered_sigma_0.8_5.pkl, 70b, 3, \n",
      "[633]: uncorrelated_uniform_centered_sigma_0.8_6.pkl, histogram, 2, NA\n",
      "[634]: uncorrelated_uniform_centered_sigma_0.8_7.pkl, KDE, 2, gaussian\n"
     ]
    }
   ],
   "source": [
    "all_files = sorted([path for path in processed_series_path.iterdir()], key=lambda x: x.name)\n",
    "for index, file in enumerate(all_files):\n",
    "    series_dict = pickle.load(file.open('rb'))\n",
    "    llama_size = series_dict['llama_size']\n",
    "    random_seed = series_dict['random_seed']\n",
    "    kernel = series_dict.get('kernel', '')\n",
    "    print(f\"[{index}]: {file.name}, {llama_size}, {random_seed}, {kernel}\")"
   ]
  },
  {
   "cell_type": "code",
   "execution_count": 4,
   "metadata": {},
   "outputs": [
    {
     "name": "stdout",
     "output_type": "stream",
     "text": [
      "seed: 2\n",
      "model name: gemma-2b\n",
      "mode: all\n",
      "refine_depth: 1\n",
      "prec: 2\n",
      "kernel: NA\n",
      "name: uncorrelated_gaussian_centered_sigma_0.1_gemma-2b_99\n"
     ]
    }
   ],
   "source": [
    "\n",
    "alpha = 1\n",
    "\n",
    "\n",
    "file = all_files[33]\n",
    "\n",
    "processed_dict = pickle.load(file.open('rb'))\n",
    "full_series = processed_dict['full_series']\n",
    "rescaled_true_mean_arr = processed_dict.get('rescaled_true_mean_arr',None)\n",
    "rescaled_true_sigma_arr = processed_dict.get('rescaled_true_sigma_arr',None)\n",
    "true_PDF = processed_dict.get('true_PDF',None)\n",
    "llama_size = processed_dict['llama_size']\n",
    "mode = processed_dict['mode']\n",
    "refine_depth = processed_dict['refine_depth']\n",
    "random_seed = processed_dict['random_seed']\n",
    "PDF_list = processed_dict['PDF_list']\n",
    "time_series = processed_dict['time_series']\n",
    "prec = processed_dict['prec']\n",
    "kernel = processed_dict.get('kernel', '')\n",
    "print(f\"seed: {processed_dict['random_seed']}\")\n",
    "print(f\"model name: {llama_size}\")\n",
    "print(f\"mode: {mode}\")\n",
    "print(f\"refine_depth: {refine_depth}\")\n",
    "print(f\"prec: {prec}\")\n",
    "print(f\"kernel: {kernel}\")\n",
    "print(f\"name: {file.stem}\")"
   ]
  },
  {
   "cell_type": "code",
   "execution_count": 5,
   "metadata": {},
   "outputs": [],
   "source": [
    "### tune temperature \n",
    "\n",
    "for PDF in PDF_list:\n",
    "    if alpha != 1:\n",
    "        PDF.rescale_temperature(alpha)"
   ]
  },
  {
   "cell_type": "code",
   "execution_count": 6,
   "metadata": {},
   "outputs": [
    {
     "ename": "NameError",
     "evalue": "name 'dist_type' is not defined",
     "output_type": "error",
     "traceback": [
      "\u001b[0;31m---------------------------------------------------------------------------\u001b[0m",
      "\u001b[0;31mNameError\u001b[0m                                 Traceback (most recent call last)",
      "Cell \u001b[0;32mIn[6], line 24\u001b[0m\n\u001b[1;32m     21\u001b[0m     \u001b[38;5;28;01melse\u001b[39;00m:\n\u001b[1;32m     22\u001b[0m         \u001b[38;5;28;01mraise\u001b[39;00m \u001b[38;5;167;01mNotImplementedError\u001b[39;00m(\u001b[38;5;124m\"\u001b[39m\u001b[38;5;124mThis distribution type is not implemented.\u001b[39m\u001b[38;5;124m\"\u001b[39m)\n\u001b[0;32m---> 24\u001b[0m PDF_true\u001b[38;5;241m.\u001b[39mdiscretize(cdf, mode\u001b[38;5;241m=\u001b[39m\u001b[38;5;124m\"\u001b[39m\u001b[38;5;124mcdf\u001b[39m\u001b[38;5;124m\"\u001b[39m)\n\u001b[1;32m     25\u001b[0m PDF_true\u001b[38;5;241m.\u001b[39mcompute_stats()\n\u001b[1;32m     26\u001b[0m PDF_true_list[i] \u001b[38;5;241m=\u001b[39m PDF_true\n",
      "File \u001b[0;32m~/Toni/LLMICL_inPCA/figures_analysis/../models/ICL.py:406\u001b[0m, in \u001b[0;36mMultiResolutionPDF.discretize\u001b[0;34m(self, func, mode)\u001b[0m\n\u001b[1;32m    404\u001b[0m     right_edge \u001b[38;5;241m=\u001b[39m \u001b[38;5;28mself\u001b[39m\u001b[38;5;241m.\u001b[39mbin_center_arr \u001b[38;5;241m+\u001b[39m \u001b[38;5;28mself\u001b[39m\u001b[38;5;241m.\u001b[39mbin_width_arr\u001b[38;5;241m/\u001b[39m\u001b[38;5;241m2\u001b[39m\n\u001b[1;32m    405\u001b[0m     left_edge \u001b[38;5;241m=\u001b[39m \u001b[38;5;28mself\u001b[39m\u001b[38;5;241m.\u001b[39mbin_center_arr \u001b[38;5;241m-\u001b[39m \u001b[38;5;28mself\u001b[39m\u001b[38;5;241m.\u001b[39mbin_width_arr\u001b[38;5;241m/\u001b[39m\u001b[38;5;241m2\u001b[39m\n\u001b[0;32m--> 406\u001b[0m     prob_arr \u001b[38;5;241m=\u001b[39m func(right_edge) \u001b[38;5;241m-\u001b[39m func(left_edge)\n\u001b[1;32m    407\u001b[0m     \u001b[38;5;28mself\u001b[39m\u001b[38;5;241m.\u001b[39mbin_height_arr \u001b[38;5;241m=\u001b[39m prob_arr \u001b[38;5;241m/\u001b[39m \u001b[38;5;28mself\u001b[39m\u001b[38;5;241m.\u001b[39mbin_width_arr\n\u001b[1;32m    408\u001b[0m \u001b[38;5;28mself\u001b[39m\u001b[38;5;241m.\u001b[39mnormalize()\n",
      "Cell \u001b[0;32mIn[6], line 11\u001b[0m, in \u001b[0;36mcdf\u001b[0;34m(x)\u001b[0m\n\u001b[1;32m     10\u001b[0m \u001b[38;5;28;01mdef\u001b[39;00m \u001b[38;5;21mcdf\u001b[39m(x):\n\u001b[0;32m---> 11\u001b[0m     \u001b[38;5;28;01mif\u001b[39;00m dist_type \u001b[38;5;241m==\u001b[39m \u001b[38;5;124m\"\u001b[39m\u001b[38;5;124mgaussian\u001b[39m\u001b[38;5;124m\"\u001b[39m:\n\u001b[1;32m     12\u001b[0m         \u001b[38;5;28;01mreturn\u001b[39;00m \u001b[38;5;241m0.5\u001b[39m \u001b[38;5;241m*\u001b[39m (\u001b[38;5;241m1\u001b[39m \u001b[38;5;241m+\u001b[39m erf((x \u001b[38;5;241m-\u001b[39m true_mean) \u001b[38;5;241m/\u001b[39m (true_sigma \u001b[38;5;241m*\u001b[39m np\u001b[38;5;241m.\u001b[39msqrt(\u001b[38;5;241m2\u001b[39m))))\n\u001b[1;32m     13\u001b[0m     \u001b[38;5;28;01melif\u001b[39;00m dist_type \u001b[38;5;241m==\u001b[39m \u001b[38;5;124m\"\u001b[39m\u001b[38;5;124muniform\u001b[39m\u001b[38;5;124m\"\u001b[39m:\n",
      "\u001b[0;31mNameError\u001b[0m: name 'dist_type' is not defined"
     ]
    }
   ],
   "source": [
    "### Calculate true discretized distribution: PDF_list_true\n",
    "### Applies to gaussian distribution only\n",
    "\n",
    "PDF_true_list = copy.deepcopy(PDF_list)\n",
    "if true_PDF is not None:\n",
    "    for i in range(len(PDF_true_list)):\n",
    "        PDF_true_list[i] = true_PDF\n",
    "else:\n",
    "    for i, (PDF, PDF_true, true_mean, true_sigma) in enumerate(zip(PDF_list, PDF_true_list, rescaled_true_mean_arr, rescaled_true_sigma_arr)):\n",
    "        def cdf(x):\n",
    "            if dist_type == \"gaussian\":\n",
    "                return 0.5 * (1 + erf((x - true_mean) / (true_sigma * np.sqrt(2))))\n",
    "            elif dist_type == \"uniform\":\n",
    "                lower_bound = true_mean - true_sigma\n",
    "                upper_bound = true_mean + true_sigma\n",
    "                return np.where(\n",
    "                    (x >= lower_bound) & (x <= upper_bound),\n",
    "                    (x - lower_bound) / (2 * true_sigma),\n",
    "                    np.where(x < lower_bound, 0, 1)\n",
    "                )\n",
    "            else:\n",
    "                raise NotImplementedError(\"This distribution type is not implemented.\")\n",
    "        \n",
    "        PDF_true.discretize(cdf, mode=\"cdf\")\n",
    "        PDF_true.compute_stats()\n",
    "        PDF_true_list[i] = PDF_true"
   ]
  },
  {
   "cell_type": "code",
   "execution_count": 7,
   "metadata": {},
   "outputs": [
    {
     "data": {
      "application/vnd.jupyter.widget-view+json": {
       "model_id": "6cbd72ad45934c4f8d8257e25bd74d65",
       "version_major": 2,
       "version_minor": 0
      },
      "text/plain": [
       "interactive(children=(IntSlider(value=1, description='comma_idx', max=399, min=1), Checkbox(value=False, descr…"
      ]
     },
     "metadata": {},
     "output_type": "display_data"
    },
    {
     "data": {
      "text/plain": [
       "<function __main__.digiprob_plotter(comma_idx=1, save_plot=False)>"
      ]
     },
     "execution_count": 7,
     "metadata": {},
     "output_type": "execute_result"
    }
   ],
   "source": [
    "from ipywidgets import interact\n",
    "import matplotlib.pyplot as plt\n",
    "from scipy.stats import norm, uniform\n",
    "save_path_wild = f\"../figures/animation/frame\"\n",
    "### Load multiple digits to MultiResolutionPDF\n",
    "comma_locations = np.sort(np.where(np.array(list(full_series)) == ',')[0])\n",
    "time_series_rescaled = (time_series-time_series.min()) / (time_series.max()-time_series.min()) * (8.5-1.5) + 1.5\n",
    "\n",
    "plot1_log_scale = 0\n",
    "log_scale = 0\n",
    "truth_PDF = 1\n",
    "\n",
    "### Plot distribution before ith comma\n",
    "def digiprob_plotter(comma_idx=1, save_plot = False):\n",
    "    if comma_idx == 0:\n",
    "        start_idx = 0\n",
    "    else:\n",
    "        start_idx = comma_locations[comma_idx-1]+1\n",
    "    if truth_PDF:\n",
    "        fig, axs = plt.subplots(3, 1, figsize=(8, 5), dpi = 200)\n",
    "    else:\n",
    "        fig, axs = plt.subplots(2, 1, figsize=(8, 10/3), dpi = 200)\n",
    "    # Adjust the horizontal space between subplots\n",
    "    plt.subplots_adjust(hspace=0.7)\n",
    "    # Plot the full array with a marker on the selected value\n",
    "\n",
    "    time_series_plot = time_series_rescaled\n",
    "    axs[0].plot(time_series_plot[:-1], marker='o', color='black', markersize=2, lw = '0.1', label = \"observation\")\n",
    "    axs[0].scatter(comma_idx, time_series_plot[comma_idx], color='r', marker='o', label = \"prediction\")\n",
    "    axs[0].set_xlabel('context length')\n",
    "    axs[0].set_ylabel(r'rescaled $x$')\n",
    "    \n",
    "    if plot1_log_scale:\n",
    "        axs[0].set_yscale('log')\n",
    "        \n",
    "    # Plot softmax distributions for each digit\n",
    "    axs[1].set_ylabel(\"probability density\")\n",
    "    # axs[1].set_title(full_series[start_idx-30:start_idx] + \"?\")      \n",
    "    PDF_list[comma_idx].compute_stats()\n",
    "    PDF_list[comma_idx].plot(ax = axs[1], log_scale=log_scale, statistic = False)\n",
    "    if truth_PDF:\n",
    "        PDF_true_list[comma_idx].plot(ax = axs[2], log_scale=log_scale, statistic = False)\n",
    "        axs[2].set_title('discretized truth')\n",
    "        # axs[2].set_xlabel(\"Digit\")\n",
    "        axs[2].set_xlim(0,10)\n",
    "    axs[1].set_xlim(0,10)\n",
    "    # axs[1].set_ylim(0,5)\n",
    "    axs[1].set_title('estimated density')\n",
    "    axs[0].legend()\n",
    "    axs[1].legend()\n",
    "    if log_scale:\n",
    "        axs[1].set_ylim(0.005,10)\n",
    "        if truth_PDF:\n",
    "            axs[2].set_ylim(0.0005,10)\n",
    "    if save_plot: \n",
    "        plt.tight_layout()\n",
    "        save_path = save_path_wild + f\"{comma_idx}.png\"\n",
    "        plt.savefig(save_path)\n",
    "        filenames.append(save_path)\n",
    "\n",
    "# Adjust the range of the slider to match the number of commas in the series\n",
    "num_commas = full_series.count(',')\n",
    "interact(digiprob_plotter, comma_idx=(1, num_commas-1, 1))"
   ]
  },
  {
   "cell_type": "markdown",
   "metadata": {},
   "source": [
    "### Animate"
   ]
  },
  {
   "cell_type": "code",
   "execution_count": 7,
   "metadata": {},
   "outputs": [
    {
     "data": {
      "text/plain": [
       "array([  1,   2,   3,   4,   5,   6,   7,   8,   9,  10,  11,  12,  13,\n",
       "        14,  15,  16,  17,  18,  19,  20,  31,  51,  71,  91, 111, 131,\n",
       "       151, 171, 191, 211, 231, 251, 271, 291, 311])"
      ]
     },
     "execution_count": 7,
     "metadata": {},
     "output_type": "execute_result"
    }
   ],
   "source": [
    "# snapshots = np.linspace(1, 381, 38, endpoint=False, dtype=int)\n",
    "snapshots = np.append(np.linspace(1, 21, 20, endpoint=False, dtype=int), np.linspace(31, 331, 15, endpoint=False, dtype=int))\n",
    "snapshots "
   ]
  },
  {
   "cell_type": "code",
   "execution_count": 19,
   "metadata": {},
   "outputs": [
    {
     "data": {
      "application/vnd.jupyter.widget-view+json": {
       "model_id": "5da688a74f2b47ed82ca9b27fbea27a3",
       "version_major": 2,
       "version_minor": 0
      },
      "text/plain": [
       "interactive(children=(IntSlider(value=1, description='comma_idx', max=3, min=-1), Checkbox(value=True, descrip…"
      ]
     },
     "metadata": {},
     "output_type": "display_data"
    },
    {
     "data": {
      "application/vnd.jupyter.widget-view+json": {
       "model_id": "dbcadddbc51e4ee1ac7c13df461a1548",
       "version_major": 2,
       "version_minor": 0
      },
      "text/plain": [
       "interactive(children=(IntSlider(value=2, description='comma_idx', max=6, min=-2), Checkbox(value=True, descrip…"
      ]
     },
     "metadata": {},
     "output_type": "display_data"
    },
    {
     "data": {
      "application/vnd.jupyter.widget-view+json": {
       "model_id": "3147c440e49d47ceaedfe47fdadb1871",
       "version_major": 2,
       "version_minor": 0
      },
      "text/plain": [
       "interactive(children=(IntSlider(value=3, description='comma_idx', max=9, min=-3), Checkbox(value=True, descrip…"
      ]
     },
     "metadata": {},
     "output_type": "display_data"
    },
    {
     "data": {
      "application/vnd.jupyter.widget-view+json": {
       "model_id": "ad486440ea6046569f3e01ca4d83671f",
       "version_major": 2,
       "version_minor": 0
      },
      "text/plain": [
       "interactive(children=(IntSlider(value=4, description='comma_idx', max=12, min=-4), Checkbox(value=True, descri…"
      ]
     },
     "metadata": {},
     "output_type": "display_data"
    },
    {
     "data": {
      "application/vnd.jupyter.widget-view+json": {
       "model_id": "823b188ff0ab427faacaffd5b2f0d83c",
       "version_major": 2,
       "version_minor": 0
      },
      "text/plain": [
       "interactive(children=(IntSlider(value=5, description='comma_idx', max=15, min=-5), Checkbox(value=True, descri…"
      ]
     },
     "metadata": {},
     "output_type": "display_data"
    },
    {
     "data": {
      "application/vnd.jupyter.widget-view+json": {
       "model_id": "96319064ba754c99b75fb37e7df7afee",
       "version_major": 2,
       "version_minor": 0
      },
      "text/plain": [
       "interactive(children=(IntSlider(value=6, description='comma_idx', max=18, min=-6), Checkbox(value=True, descri…"
      ]
     },
     "metadata": {},
     "output_type": "display_data"
    },
    {
     "data": {
      "application/vnd.jupyter.widget-view+json": {
       "model_id": "30b239ad348e4fe6801a5f0889eafe67",
       "version_major": 2,
       "version_minor": 0
      },
      "text/plain": [
       "interactive(children=(IntSlider(value=7, description='comma_idx', max=21, min=-7), Checkbox(value=True, descri…"
      ]
     },
     "metadata": {},
     "output_type": "display_data"
    },
    {
     "data": {
      "application/vnd.jupyter.widget-view+json": {
       "model_id": "88e8e4dd774b4710bd2211c979ffd647",
       "version_major": 2,
       "version_minor": 0
      },
      "text/plain": [
       "interactive(children=(IntSlider(value=8, description='comma_idx', max=24, min=-8), Checkbox(value=True, descri…"
      ]
     },
     "metadata": {},
     "output_type": "display_data"
    },
    {
     "data": {
      "application/vnd.jupyter.widget-view+json": {
       "model_id": "e1dfdcd0170d4c6c81cff8de8eee9c5a",
       "version_major": 2,
       "version_minor": 0
      },
      "text/plain": [
       "interactive(children=(IntSlider(value=9, description='comma_idx', max=27, min=-9), Checkbox(value=True, descri…"
      ]
     },
     "metadata": {},
     "output_type": "display_data"
    },
    {
     "data": {
      "application/vnd.jupyter.widget-view+json": {
       "model_id": "964b522624a44c2d890a2ca07c711e14",
       "version_major": 2,
       "version_minor": 0
      },
      "text/plain": [
       "interactive(children=(IntSlider(value=10, description='comma_idx', max=30, min=-10), Checkbox(value=True, desc…"
      ]
     },
     "metadata": {},
     "output_type": "display_data"
    },
    {
     "data": {
      "application/vnd.jupyter.widget-view+json": {
       "model_id": "cc57daf91d60485387a385444b321daa",
       "version_major": 2,
       "version_minor": 0
      },
      "text/plain": [
       "interactive(children=(IntSlider(value=11, description='comma_idx', max=33, min=-11), Checkbox(value=True, desc…"
      ]
     },
     "metadata": {},
     "output_type": "display_data"
    },
    {
     "data": {
      "application/vnd.jupyter.widget-view+json": {
       "model_id": "b043b461ba5d4aadb026f99d9da79290",
       "version_major": 2,
       "version_minor": 0
      },
      "text/plain": [
       "interactive(children=(IntSlider(value=12, description='comma_idx', max=36, min=-12), Checkbox(value=True, desc…"
      ]
     },
     "metadata": {},
     "output_type": "display_data"
    },
    {
     "data": {
      "application/vnd.jupyter.widget-view+json": {
       "model_id": "fa6219dbb1de4db6ae16016fef1151e9",
       "version_major": 2,
       "version_minor": 0
      },
      "text/plain": [
       "interactive(children=(IntSlider(value=13, description='comma_idx', max=39, min=-13), Checkbox(value=True, desc…"
      ]
     },
     "metadata": {},
     "output_type": "display_data"
    },
    {
     "data": {
      "application/vnd.jupyter.widget-view+json": {
       "model_id": "278405a636db4931869ea124791cb20b",
       "version_major": 2,
       "version_minor": 0
      },
      "text/plain": [
       "interactive(children=(IntSlider(value=14, description='comma_idx', max=42, min=-14), Checkbox(value=True, desc…"
      ]
     },
     "metadata": {},
     "output_type": "display_data"
    },
    {
     "data": {
      "application/vnd.jupyter.widget-view+json": {
       "model_id": "cb25c03df1844e30b50dbe4c9cd3ee9b",
       "version_major": 2,
       "version_minor": 0
      },
      "text/plain": [
       "interactive(children=(IntSlider(value=15, description='comma_idx', max=45, min=-15), Checkbox(value=True, desc…"
      ]
     },
     "metadata": {},
     "output_type": "display_data"
    },
    {
     "data": {
      "application/vnd.jupyter.widget-view+json": {
       "model_id": "22769e1958b34a6ca0a88bb743836c3e",
       "version_major": 2,
       "version_minor": 0
      },
      "text/plain": [
       "interactive(children=(IntSlider(value=16, description='comma_idx', max=48, min=-16), Checkbox(value=True, desc…"
      ]
     },
     "metadata": {},
     "output_type": "display_data"
    },
    {
     "data": {
      "application/vnd.jupyter.widget-view+json": {
       "model_id": "22a3fcb506224dfc87d63faa187eb632",
       "version_major": 2,
       "version_minor": 0
      },
      "text/plain": [
       "interactive(children=(IntSlider(value=17, description='comma_idx', max=51, min=-17), Checkbox(value=True, desc…"
      ]
     },
     "metadata": {},
     "output_type": "display_data"
    },
    {
     "data": {
      "application/vnd.jupyter.widget-view+json": {
       "model_id": "56d2a913134147929df4087d90879da7",
       "version_major": 2,
       "version_minor": 0
      },
      "text/plain": [
       "interactive(children=(IntSlider(value=18, description='comma_idx', max=54, min=-18), Checkbox(value=True, desc…"
      ]
     },
     "metadata": {},
     "output_type": "display_data"
    },
    {
     "data": {
      "application/vnd.jupyter.widget-view+json": {
       "model_id": "52dee723d8d94db1b4e8122e6a998ddd",
       "version_major": 2,
       "version_minor": 0
      },
      "text/plain": [
       "interactive(children=(IntSlider(value=19, description='comma_idx', max=57, min=-19), Checkbox(value=True, desc…"
      ]
     },
     "metadata": {},
     "output_type": "display_data"
    },
    {
     "data": {
      "application/vnd.jupyter.widget-view+json": {
       "model_id": "cbff9cc5b68e4fdd99c2b7352a47bf64",
       "version_major": 2,
       "version_minor": 0
      },
      "text/plain": [
       "interactive(children=(IntSlider(value=20, description='comma_idx', max=60, min=-20), Checkbox(value=True, desc…"
      ]
     },
     "metadata": {},
     "output_type": "display_data"
    },
    {
     "data": {
      "application/vnd.jupyter.widget-view+json": {
       "model_id": "afe3c86ba6e04c2fae608900d2af215e",
       "version_major": 2,
       "version_minor": 0
      },
      "text/plain": [
       "interactive(children=(IntSlider(value=31, description='comma_idx', max=93, min=-31), Checkbox(value=True, desc…"
      ]
     },
     "metadata": {},
     "output_type": "display_data"
    },
    {
     "data": {
      "application/vnd.jupyter.widget-view+json": {
       "model_id": "84e4b5947cee4296b370e9c505997401",
       "version_major": 2,
       "version_minor": 0
      },
      "text/plain": [
       "interactive(children=(IntSlider(value=51, description='comma_idx', max=153, min=-51), Checkbox(value=True, des…"
      ]
     },
     "metadata": {},
     "output_type": "display_data"
    },
    {
     "data": {
      "application/vnd.jupyter.widget-view+json": {
       "model_id": "151424a30ae240f898cd1a6aa30f3f9d",
       "version_major": 2,
       "version_minor": 0
      },
      "text/plain": [
       "interactive(children=(IntSlider(value=71, description='comma_idx', max=213, min=-71), Checkbox(value=True, des…"
      ]
     },
     "metadata": {},
     "output_type": "display_data"
    },
    {
     "data": {
      "application/vnd.jupyter.widget-view+json": {
       "model_id": "27d149dd3e614acf962dbceb385b841d",
       "version_major": 2,
       "version_minor": 0
      },
      "text/plain": [
       "interactive(children=(IntSlider(value=91, description='comma_idx', max=273, min=-91), Checkbox(value=True, des…"
      ]
     },
     "metadata": {},
     "output_type": "display_data"
    },
    {
     "data": {
      "application/vnd.jupyter.widget-view+json": {
       "model_id": "f482a9fd87744834b85b1f77fcde6492",
       "version_major": 2,
       "version_minor": 0
      },
      "text/plain": [
       "interactive(children=(IntSlider(value=111, description='comma_idx', max=333, min=-111), Checkbox(value=True, d…"
      ]
     },
     "metadata": {},
     "output_type": "display_data"
    },
    {
     "data": {
      "application/vnd.jupyter.widget-view+json": {
       "model_id": "5eff855b01c94d0281c5dccfb1fe59d5",
       "version_major": 2,
       "version_minor": 0
      },
      "text/plain": [
       "interactive(children=(IntSlider(value=131, description='comma_idx', max=393, min=-131), Checkbox(value=True, d…"
      ]
     },
     "metadata": {},
     "output_type": "display_data"
    },
    {
     "data": {
      "application/vnd.jupyter.widget-view+json": {
       "model_id": "d39fc7a9e4284dcaa352121f04f3b7b0",
       "version_major": 2,
       "version_minor": 0
      },
      "text/plain": [
       "interactive(children=(IntSlider(value=151, description='comma_idx', max=453, min=-151), Checkbox(value=True, d…"
      ]
     },
     "metadata": {},
     "output_type": "display_data"
    },
    {
     "data": {
      "application/vnd.jupyter.widget-view+json": {
       "model_id": "ef8acaebed404752be9a8aa2f7822669",
       "version_major": 2,
       "version_minor": 0
      },
      "text/plain": [
       "interactive(children=(IntSlider(value=171, description='comma_idx', max=513, min=-171), Checkbox(value=True, d…"
      ]
     },
     "metadata": {},
     "output_type": "display_data"
    },
    {
     "data": {
      "application/vnd.jupyter.widget-view+json": {
       "model_id": "3562c7bef78f4e2cb162e8d72bfaf842",
       "version_major": 2,
       "version_minor": 0
      },
      "text/plain": [
       "interactive(children=(IntSlider(value=191, description='comma_idx', max=573, min=-191), Checkbox(value=True, d…"
      ]
     },
     "metadata": {},
     "output_type": "display_data"
    },
    {
     "data": {
      "application/vnd.jupyter.widget-view+json": {
       "model_id": "0fc1a96aa2eb4f92bffceb74c92d77fd",
       "version_major": 2,
       "version_minor": 0
      },
      "text/plain": [
       "interactive(children=(IntSlider(value=211, description='comma_idx', max=633, min=-211), Checkbox(value=True, d…"
      ]
     },
     "metadata": {},
     "output_type": "display_data"
    },
    {
     "data": {
      "application/vnd.jupyter.widget-view+json": {
       "model_id": "3b824b82179c48c2a511c19b21df5200",
       "version_major": 2,
       "version_minor": 0
      },
      "text/plain": [
       "interactive(children=(IntSlider(value=231, description='comma_idx', max=693, min=-231), Checkbox(value=True, d…"
      ]
     },
     "metadata": {},
     "output_type": "display_data"
    },
    {
     "data": {
      "application/vnd.jupyter.widget-view+json": {
       "model_id": "e3d23878049c47adbf6c61e7aeb62905",
       "version_major": 2,
       "version_minor": 0
      },
      "text/plain": [
       "interactive(children=(IntSlider(value=251, description='comma_idx', max=753, min=-251), Checkbox(value=True, d…"
      ]
     },
     "metadata": {},
     "output_type": "display_data"
    },
    {
     "data": {
      "application/vnd.jupyter.widget-view+json": {
       "model_id": "7a24a75a34474034b2589df2f68b376a",
       "version_major": 2,
       "version_minor": 0
      },
      "text/plain": [
       "interactive(children=(IntSlider(value=271, description='comma_idx', max=813, min=-271), Checkbox(value=True, d…"
      ]
     },
     "metadata": {},
     "output_type": "display_data"
    },
    {
     "data": {
      "application/vnd.jupyter.widget-view+json": {
       "model_id": "e988e52881e34583a380e558a81ce164",
       "version_major": 2,
       "version_minor": 0
      },
      "text/plain": [
       "interactive(children=(IntSlider(value=291, description='comma_idx', max=873, min=-291), Checkbox(value=True, d…"
      ]
     },
     "metadata": {},
     "output_type": "display_data"
    },
    {
     "data": {
      "application/vnd.jupyter.widget-view+json": {
       "model_id": "e1182768f6bf47b1a2fe195f6f8b7060",
       "version_major": 2,
       "version_minor": 0
      },
      "text/plain": [
       "interactive(children=(IntSlider(value=311, description='comma_idx', max=933, min=-311), Checkbox(value=True, d…"
      ]
     },
     "metadata": {},
     "output_type": "display_data"
    }
   ],
   "source": [
    "filenames = []\n",
    "for snapshot in snapshots:\n",
    "    interact(digiprob_plotter, comma_idx=snapshot, save_plot = True)"
   ]
  },
  {
   "cell_type": "code",
   "execution_count": 20,
   "metadata": {},
   "outputs": [],
   "source": [
    "# Create a GIF using snapshot made\n",
    "import imageio.v2 as imageio\n",
    "\n",
    "with imageio.get_writer('../figures/randomPDF_70B_snapshots.gif', mode='I', duration=500, loop=0) as writer:\n",
    "    for filename in filenames:\n",
    "        image = imageio.imread(filename)\n",
    "        writer.append_data(image)\n",
    "    for filename in filenames:\n",
    "        os.remove(filename)"
   ]
  },
  {
   "cell_type": "code",
   "execution_count": null,
   "metadata": {},
   "outputs": [],
   "source": []
  }
 ],
 "metadata": {
  "kernelspec": {
   "display_name": "LLM",
   "language": "python",
   "name": "python3"
  },
  "language_info": {
   "codemirror_mode": {
    "name": "ipython",
    "version": 3
   },
   "file_extension": ".py",
   "mimetype": "text/x-python",
   "name": "python",
   "nbconvert_exporter": "python",
   "pygments_lexer": "ipython3",
   "version": "3.11.4"
  }
 },
 "nbformat": 4,
 "nbformat_minor": 2
}
